{
 "cells": [
  {
   "cell_type": "markdown",
   "metadata": {},
   "source": [
    "## 1. Instantiate a numpy array"
   ]
  },
  {
   "cell_type": "code",
   "execution_count": 7,
   "metadata": {},
   "outputs": [
    {
     "name": "stdout",
     "output_type": "stream",
     "text": [
      "Command: array_from_list = np.array([1, 2, 3, 4, 5])\n",
      "Array created from list: [1 2 3 4 5]\n",
      "Command: array_zeros = np.zeros((3, 4))\n",
      "Array of zeros:\n",
      "[[0. 0. 0. 0.]\n",
      " [0. 0. 0. 0.]\n",
      " [0. 0. 0. 0.]]\n",
      "Command: array_ones = np.ones((2, 3))\n",
      "Array of ones:\n",
      "[[1. 1. 1.]\n",
      " [1. 1. 1.]]\n",
      "Command: identity_matrix = np.eye(3)\n",
      "Identity matrix:\n",
      "[[1. 0. 0.]\n",
      " [0. 1. 0.]\n",
      " [0. 0. 1.]]\n",
      "Command: array_range = np.arange(1, 11, 2)\n",
      "Array using arange:\n",
      "[1 3 5 7 9]\n",
      "Command: array_linspace = np.linspace(0, 1, 5)\n",
      "Array using linspace:\n",
      "[0.   0.25 0.5  0.75 1.  ]\n",
      "Command: random_array = np.random.rand(2, 3)\n",
      "Random array:\n",
      "[[0.64549877 0.36460012 0.24353327]\n",
      " [0.94493245 0.03430064 0.878143  ]]\n",
      "Command: empty_array = np.empty((2, 2))\n",
      "Empty array:\n",
      "[[0.25 0.5 ]\n",
      " [0.75 1.  ]]\n"
     ]
    }
   ],
   "source": [
    "import numpy as np\n",
    "\n",
    "# Method 1: Creating an array from a Python list\n",
    "array_from_list = np.array([1, 2, 3, 4, 5])\n",
    "print(\"Command: array_from_list = np.array([1, 2, 3, 4, 5])\")\n",
    "print(\"Array created from list:\", array_from_list)\n",
    "\n",
    "# Method 2: Creating an array with a specific shape full of zeros\n",
    "array_zeros = np.zeros((3, 4))  # 3 rows, 4 columns\n",
    "print(\"Command: array_zeros = np.zeros((3, 4))\")\n",
    "print(\"Array of zeros:\")\n",
    "print(array_zeros)\n",
    "\n",
    "# Method 3: Creating an array with a specific shape full of ones\n",
    "array_ones = np.ones((2, 3))  # 2 rows, 3 columns\n",
    "print(\"Command: array_ones = np.ones((2, 3))\")\n",
    "print(\"Array of ones:\")\n",
    "print(array_ones)\n",
    "\n",
    "# Method 4: Creating an identity matrix\n",
    "identity_matrix = np.eye(3)  # 3x3 identity matrix\n",
    "print(\"Command: identity_matrix = np.eye(3)\")\n",
    "print(\"Identity matrix:\")\n",
    "print(identity_matrix)\n",
    "\n",
    "# Method 5: Creating an array with a range of values\n",
    "array_range = np.arange(1, 11, 2)  # Start at 1, stop before 11, step by 2\n",
    "print(\"Command: array_range = np.arange(1, 11, 2)\")\n",
    "print(\"Array using arange:\")\n",
    "print(array_range)\n",
    "\n",
    "# Method 6: Creating an array with evenly spaced values\n",
    "array_linspace = np.linspace(0, 1, 5)  # Start at 0, end at 1, with 5 values in between\n",
    "print(\"Command: array_linspace = np.linspace(0, 1, 5)\")\n",
    "print(\"Array using linspace:\")\n",
    "print(array_linspace)\n",
    "\n",
    "# Method 7: Creating a random array\n",
    "random_array = np.random.rand(2, 3)  # 2 rows, 3 columns with random values between 0 and 1\n",
    "print(\"Command: random_array = np.random.rand(2, 3)\")\n",
    "print(\"Random array:\")\n",
    "print(random_array)\n",
    "\n",
    "# Method 8: Creating an empty array (without initializing its values)\n",
    "empty_array = np.empty((2, 2))\n",
    "print(\"Command: empty_array = np.empty((2, 2))\")\n",
    "print(\"Empty array:\")\n",
    "print(empty_array)\n"
   ]
  },
  {
   "cell_type": "markdown",
   "metadata": {},
   "source": [
    "## 2. When we need to explicitly define the matrix?\n",
    "\n",
    "In Python, you do not necessarily need to explicitly instantiate variables before using them. \n",
    "- Integers / floating point numbers\n",
    "- Strings\n",
    "- Boolean\n",
    "- Lists\n",
    "- Tuples\n",
    "- Dictionaries\n",
    "- Sets\n",
    "\n",
    "There are only two cases we need to instantiate variables before using it:\n"
   ]
  },
  {
   "cell_type": "markdown",
   "metadata": {},
   "source": [
    "### A. Non-basic variables\n",
    "\n",
    "But when it comes to \"non-basic data types\", such as numpy arrays, we still need to instantiate it. \n",
    "We create a new zeros like array like the following:"
   ]
  },
  {
   "cell_type": "code",
   "execution_count": 4,
   "metadata": {},
   "outputs": [
    {
     "name": "stdout",
     "output_type": "stream",
     "text": [
      "0\n"
     ]
    }
   ],
   "source": [
    "import numpy as np \n",
    "\n",
    "xR = np.zeros_like(10)\n",
    "print(xR)"
   ]
  },
  {
   "cell_type": "markdown",
   "metadata": {},
   "source": [
    "With `np.zero_like()` in this example, we explicitly define xR, and the method returns a numpy array to the variable. \n",
    "\n",
    "### B. Instantiate iterables before loops\n",
    "\n",
    "In some cases, you might want to instantiate variables, especially when you are using them as containers for processed data or if you want to define an empty data structure to populate it later."
   ]
  },
  {
   "cell_type": "code",
   "execution_count": null,
   "metadata": {},
   "outputs": [],
   "source": [
    "result_list = []  # Instantiate an empty list\n",
    "\n",
    "for i in range(5):\n",
    "    result_list.append(i * 2)  # Add processed data to the list\n",
    "\n",
    "print(result_list)  # Output: [0, 2, 4, 6, 8]"
   ]
  }
 ],
 "metadata": {
  "kernelspec": {
   "display_name": "Python 3",
   "language": "python",
   "name": "python3"
  },
  "language_info": {
   "codemirror_mode": {
    "name": "ipython",
    "version": 3
   },
   "file_extension": ".py",
   "mimetype": "text/x-python",
   "name": "python",
   "nbconvert_exporter": "python",
   "pygments_lexer": "ipython3",
   "version": "3.10.0"
  }
 },
 "nbformat": 4,
 "nbformat_minor": 2
}
