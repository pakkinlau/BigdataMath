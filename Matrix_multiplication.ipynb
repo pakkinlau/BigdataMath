{
 "cells": [
  {
   "cell_type": "code",
   "execution_count": 10,
   "metadata": {},
   "outputs": [],
   "source": [
    "import numpy as np\n",
    "from scipy import linalg"
   ]
  },
  {
   "cell_type": "markdown",
   "metadata": {},
   "source": [
    "### 1. **Matrix Multiplication (Dot Product):**\n",
    "\n",
    "**Notation:** $C = A \\times B$ or $C = AB$\n",
    "\n",
    "**Definition:** For matrices $A$ (size $m \\times n$) and $B$ (size $n \\times p$), the matrix product $C$ is computed as follows:\n",
    "$$C_{ij} = \\sum_{k=1}^{n} A_{ik} \\times B_{kj}$$\n",
    "\n",
    "**Use Case Scenarios:**\n",
    "- **Linear Transformations:** Used in transformations and mappings.\n",
    "- **System of Linear Equations:** Solving systems of linear equations using matrices.\n",
    "- **Graph Theory:** Representing and analyzing graph connections."
   ]
  },
  {
   "cell_type": "code",
   "execution_count": 11,
   "metadata": {},
   "outputs": [
    {
     "name": "stdout",
     "output_type": "stream",
     "text": [
      "[[19 22]\n",
      " [43 50]]\n"
     ]
    }
   ],
   "source": [
    "A = np.array([[1, 2], [3, 4]])\n",
    "B = np.array([[5, 6], [7, 8]])\n",
    "\n",
    "C = np.dot(A, B)\n",
    "print(C)"
   ]
  },
  {
   "cell_type": "markdown",
   "metadata": {},
   "source": [
    "**@ operator**: The @ operator in Python 3.5 and later is used for matrix multiplication, which is more readable and less verbose than the np.dot() function."
   ]
  },
  {
   "cell_type": "code",
   "execution_count": 12,
   "metadata": {},
   "outputs": [
    {
     "name": "stdout",
     "output_type": "stream",
     "text": [
      "[[19 22]\n",
      " [43 50]]\n"
     ]
    }
   ],
   "source": [
    "A = np.array([[1, 2], [3, 4]])\n",
    "B = np.array([[5, 6], [7, 8]])\n",
    "\n",
    "C = A @ B\n",
    "print(C)"
   ]
  },
  {
   "cell_type": "markdown",
   "metadata": {},
   "source": [
    "### 2. **Element-wise Multiplication (Hadamard Product):**\n",
    "\n",
    "**Notation:** $C = A \\odot B$\n",
    "\n",
    "**Definition:** For matrices $A$ and $B$ of the same size, the Hadamard product $C$ is calculated by multiplying corresponding elements of $A$ and $B$ element-wise.\n",
    "$$C_{ij} = A_{ij} \\times B_{ij}$$\n",
    "\n",
    "**Use Case Scenarios:**\n",
    "- **Component-wise Operations:** Applying operations independently to corresponding elements.\n",
    "- **Weighted Operations:** Combining data with specific weights element-wise."
   ]
  },
  {
   "cell_type": "code",
   "execution_count": 13,
   "metadata": {},
   "outputs": [
    {
     "name": "stdout",
     "output_type": "stream",
     "text": [
      "[[ 5 12]\n",
      " [21 32]]\n"
     ]
    }
   ],
   "source": [
    "C = np.multiply(A, B)\n",
    "print(C)"
   ]
  },
  {
   "cell_type": "markdown",
   "metadata": {},
   "source": [
    "`*` Operator:\n",
    "\n",
    "The `*` operator performs element-wise multiplication when used with NumPy arrays. For example, if you have two arrays a and b, a * b will multiply corresponding elements of the arrays element-wise."
   ]
  },
  {
   "cell_type": "code",
   "execution_count": 14,
   "metadata": {},
   "outputs": [
    {
     "name": "stdout",
     "output_type": "stream",
     "text": [
      "[ 4 10 18]\n"
     ]
    }
   ],
   "source": [
    "import numpy as np\n",
    "\n",
    "a = np.array([1, 2, 3])\n",
    "b = np.array([4, 5, 6])\n",
    "result = a * b  # Result: [4, 10, 18]\n",
    "\n",
    "print(result)"
   ]
  },
  {
   "cell_type": "markdown",
   "metadata": {},
   "source": [
    "### 3. **Matrix Transposition:**\n",
    "\n",
    "**Notation:** $B = A^T$ or $B = A^{\\text{transpose}}$\n",
    "\n",
    "**Definition:** Transposes rows and columns of a matrix $A$. If $A$ is of size $m \\times n$, then $B$ will be of size $n \\times m$ where $B_{ij} = A_{ji}$.\n",
    "\n",
    "**Use Case Scenarios:**\n",
    "- **Changing Row to Column Vectors:** Useful for vector manipulations.\n",
    "- **Symmetric Matrices:** Verifying and working with symmetric matrices."
   ]
  },
  {
   "cell_type": "code",
   "execution_count": 15,
   "metadata": {},
   "outputs": [
    {
     "name": "stdout",
     "output_type": "stream",
     "text": [
      "[[1 3]\n",
      " [2 4]]\n"
     ]
    }
   ],
   "source": [
    "B = np.transpose(A)\n",
    "print(B)"
   ]
  },
  {
   "cell_type": "markdown",
   "metadata": {},
   "source": [
    "### 4. **Matrix Inversion:**\n",
    "\n",
    "**Notation:** $B = A^{-1}$\n",
    "\n",
    "**Definition:** For a square matrix $A$, if there exists a matrix $B$ such that $AB = BA = I$, where $I$ is the identity matrix, then $B$ is the inverse of $A$.\n",
    "\n",
    "**Use Case Scenarios:**\n",
    "- **Solving Linear Equations:** Used in solving systems of linear equations ($AX = B$).\n",
    "- **Transformation Reversal:** Inverting transformations for data recovery."
   ]
  },
  {
   "cell_type": "code",
   "execution_count": 16,
   "metadata": {},
   "outputs": [
    {
     "name": "stdout",
     "output_type": "stream",
     "text": [
      "[[-2.   1. ]\n",
      " [ 1.5 -0.5]]\n"
     ]
    }
   ],
   "source": [
    "B = linalg.inv(A)\n",
    "print(B)"
   ]
  },
  {
   "cell_type": "markdown",
   "metadata": {},
   "source": [
    "### 5. **Kronecker Product:**\n",
    "\n",
    "**Notation:** $C = A \\otimes B$\n",
    "\n",
    "**Definition:** For matrices $A$ (size $m \\times n$) and $B$ (size $p \\times q$), the Kronecker product $C$ is a block matrix of size $(mp) \\times (nq)$ formed by multiplying each element of $A$ with the matrix $B$.\n",
    "\n",
    "**Use Case Scenarios:**\n",
    "- **Expanding Systems:** Increasing the dimensionality of matrices for larger systems.\n",
    "- **Quantum Computing:** Representing quantum states and operations."
   ]
  },
  {
   "cell_type": "code",
   "execution_count": 17,
   "metadata": {},
   "outputs": [
    {
     "name": "stdout",
     "output_type": "stream",
     "text": [
      "[[-2.   1.  -4.   2. ]\n",
      " [ 1.5 -0.5  3.  -1. ]\n",
      " [-6.   3.  -8.   4. ]\n",
      " [ 4.5 -1.5  6.  -2. ]]\n"
     ]
    }
   ],
   "source": [
    "C = np.kron(A, B)\n",
    "print(C)"
   ]
  },
  {
   "cell_type": "markdown",
   "metadata": {},
   "source": [
    "### 6. **Outer Product:**\n",
    "\n",
    "**Notation:** $C = \\text{np.outer}(A, B)$\n",
    "\n",
    "**Definition:** For vectors $A$ (size $m$) and $B$ (size $n$), the outer product $C$ is a matrix of size $m \\times n$ where each element of $C$ is the product of the corresponding elements of $A$ and $B$.\n",
    "\n",
    "**Use Case Scenarios:**\n",
    "- **Outer Product Expansion:** Creating matrices from vector multiplication for various applications.\n",
    "- **Covariance Matrix:** Calculating the covariance matrix of two datasets.\n",
    "- **Signal Processing:** Convolution operations and filter design.\n"
   ]
  },
  {
   "cell_type": "code",
   "execution_count": 18,
   "metadata": {},
   "outputs": [
    {
     "name": "stdout",
     "output_type": "stream",
     "text": [
      "[[ 4  5  6]\n",
      " [ 8 10 12]\n",
      " [12 15 18]]\n"
     ]
    }
   ],
   "source": [
    "A = np.array([1, 2, 3])\n",
    "B = np.array([4, 5, 6])\n",
    "\n",
    "C = np.outer(A, B)\n",
    "print(C)"
   ]
  }
 ],
 "metadata": {
  "kernelspec": {
   "display_name": "Python 3",
   "language": "python",
   "name": "python3"
  },
  "language_info": {
   "codemirror_mode": {
    "name": "ipython",
    "version": 3
   },
   "file_extension": ".py",
   "mimetype": "text/x-python",
   "name": "python",
   "nbconvert_exporter": "python",
   "pygments_lexer": "ipython3",
   "version": "3.10.0"
  }
 },
 "nbformat": 4,
 "nbformat_minor": 2
}
