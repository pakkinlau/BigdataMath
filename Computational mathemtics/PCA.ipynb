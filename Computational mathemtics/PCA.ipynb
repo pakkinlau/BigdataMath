{
 "cells": [
  {
   "cell_type": "markdown",
   "metadata": {},
   "source": [
    "## Dataset: \n",
    "\n",
    "- \n",
    "- UCI spambase dataset: This dataset contains features extracted from email texts, and it's commonly used for email spam classification tasks. PCA can be applied to reduce the dimensionality of the feature space.\n",
    "- UCI Online News popularity dataset: This dataset contains features related to online news articles and their popularity. PCA can be used to analyze the feature space and potentially reduce it."
   ]
  }
 ],
 "metadata": {
  "language_info": {
   "name": "python"
  },
  "orig_nbformat": 4
 },
 "nbformat": 4,
 "nbformat_minor": 2
}
