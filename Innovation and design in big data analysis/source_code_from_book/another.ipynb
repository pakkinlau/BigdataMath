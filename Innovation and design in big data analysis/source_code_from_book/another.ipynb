{
 "cells": [
  {
   "cell_type": "code",
   "execution_count": 3,
   "metadata": {},
   "outputs": [],
   "source": [
    "import numpy as np\n",
    "import pandas as pd\n",
    "import numpy.linalg as la\n",
    "from sklearn.decomposition import PCA\n",
    "from sklearn.preprocessing import normalize"
   ]
  },
  {
   "cell_type": "code",
   "execution_count": 4,
   "metadata": {},
   "outputs": [],
   "source": [
    "X = np.array([\n",
    "    [4, 4, 0, 0],\n",
    "    [3, 3, 0, 0],\n",
    "    [5, 5, 0, 0],\n",
    "    [0, 0, 3, 3],\n",
    "    [0, 0, 2, 2],\n",
    "    [0, 0, 5, 5],\n",
    "])\n",
    "m, n = X.shape"
   ]
  },
  {
   "cell_type": "code",
   "execution_count": 5,
   "metadata": {},
   "outputs": [
    {
     "data": {
      "text/plain": [
       "((6, 4), (4,), (4, 4), (4, 4))"
      ]
     },
     "execution_count": 5,
     "metadata": {},
     "output_type": "execute_result"
    }
   ],
   "source": [
    "U, s, Vh = la.svd(X, full_matrices=False)\n",
    "Sigma = np.diag(s)\n",
    "\n",
    "U.shape, s.shape, Sigma.shape, Vh.shape"
   ]
  },
  {
   "cell_type": "code",
   "execution_count": 6,
   "metadata": {},
   "outputs": [],
   "source": [
    "k = 2"
   ]
  },
  {
   "cell_type": "code",
   "execution_count": 7,
   "metadata": {},
   "outputs": [
    {
     "data": {
      "text/plain": [
       "array([[-5.66,  0.  ,  0.  , -0.  ],\n",
       "       [-4.24,  0.  , -0.  , -0.  ],\n",
       "       [-7.07,  0.  , -0.  ,  0.  ],\n",
       "       [ 0.  , -4.24,  0.  ,  0.  ],\n",
       "       [ 0.  , -2.83,  0.  ,  0.  ],\n",
       "       [ 0.  , -7.07,  0.  , -0.  ]])"
      ]
     },
     "execution_count": 7,
     "metadata": {},
     "output_type": "execute_result"
    }
   ],
   "source": [
    "(U * s).round(2)"
   ]
  },
  {
   "cell_type": "code",
   "execution_count": 8,
   "metadata": {},
   "outputs": [
    {
     "data": {
      "text/plain": [
       "array([[-5.66,  0.  ],\n",
       "       [-4.24,  0.  ],\n",
       "       [-7.07,  0.  ],\n",
       "       [ 0.  , -4.24],\n",
       "       [ 0.  , -2.83],\n",
       "       [ 0.  , -7.07]])"
      ]
     },
     "execution_count": 8,
     "metadata": {},
     "output_type": "execute_result"
    }
   ],
   "source": [
    "(U[:,:k] * s[:k]).round(2)"
   ]
  },
  {
   "cell_type": "code",
   "execution_count": 9,
   "metadata": {},
   "outputs": [
    {
     "data": {
      "text/plain": [
       "array([[-7.07, -0.  , -0.  ,  0.  ],\n",
       "       [-7.07, -0.  ,  0.  ,  0.  ],\n",
       "       [-0.  , -6.16,  0.  , -0.  ],\n",
       "       [-0.  , -6.16,  0.  ,  0.  ]])"
      ]
     },
     "execution_count": 9,
     "metadata": {},
     "output_type": "execute_result"
    }
   ],
   "source": [
    "(Vh.T * s).round(2)"
   ]
  },
  {
   "cell_type": "code",
   "execution_count": 10,
   "metadata": {},
   "outputs": [
    {
     "data": {
      "text/plain": [
       "array([[-7.07, -0.  ],\n",
       "       [-7.07, -0.  ],\n",
       "       [-0.  , -6.16],\n",
       "       [-0.  , -6.16]])"
      ]
     },
     "execution_count": 10,
     "metadata": {},
     "output_type": "execute_result"
    }
   ],
   "source": [
    "(Vh[:k].T * s[:k]).round(2)"
   ]
  },
  {
   "cell_type": "code",
   "execution_count": 11,
   "metadata": {},
   "outputs": [
    {
     "data": {
      "text/plain": [
       "array([[-5.66,  0.  ],\n",
       "       [-4.24,  0.  ],\n",
       "       [-7.07,  0.  ],\n",
       "       [ 0.  , -4.24],\n",
       "       [ 0.  , -2.83],\n",
       "       [ 0.  , -7.07]])"
      ]
     },
     "execution_count": 11,
     "metadata": {},
     "output_type": "execute_result"
    }
   ],
   "source": [
    "eb_u = U[:,:k] * s[:k]\n",
    "(eb_u).round(2)"
   ]
  },
  {
   "cell_type": "code",
   "execution_count": 12,
   "metadata": {},
   "outputs": [
    {
     "data": {
      "text/plain": [
       "array([[-0.71, -0.  ],\n",
       "       [-0.71, -0.  ],\n",
       "       [-0.  , -0.71],\n",
       "       [-0.  , -0.71]])"
      ]
     },
     "execution_count": 12,
     "metadata": {},
     "output_type": "execute_result"
    }
   ],
   "source": [
    "eb_m = Vh[:k].T\n",
    "(eb_m).round(2)"
   ]
  },
  {
   "cell_type": "code",
   "execution_count": 13,
   "metadata": {},
   "outputs": [
    {
     "data": {
      "text/plain": [
       "array([[4., 4., 0., 0.],\n",
       "       [3., 3., 0., 0.],\n",
       "       [5., 5., 0., 0.],\n",
       "       [0., 0., 3., 3.],\n",
       "       [0., 0., 2., 2.],\n",
       "       [0., 0., 5., 5.]])"
      ]
     },
     "execution_count": 13,
     "metadata": {},
     "output_type": "execute_result"
    }
   ],
   "source": [
    "(eb_u @ eb_m.T)"
   ]
  },
  {
   "cell_type": "code",
   "execution_count": 14,
   "metadata": {},
   "outputs": [
    {
     "data": {
      "text/plain": [
       "array([[4, 4, 0, 0],\n",
       "       [3, 3, 0, 0],\n",
       "       [5, 5, 0, 0],\n",
       "       [0, 0, 3, 3],\n",
       "       [0, 0, 2, 2],\n",
       "       [0, 0, 5, 5]])"
      ]
     },
     "execution_count": 14,
     "metadata": {},
     "output_type": "execute_result"
    }
   ],
   "source": [
    "X"
   ]
  },
  {
   "cell_type": "code",
   "execution_count": 15,
   "metadata": {},
   "outputs": [
    {
     "data": {
      "text/plain": [
       "array([[-5.66,  0.  ],\n",
       "       [-4.24,  0.  ],\n",
       "       [-7.07,  0.  ],\n",
       "       [ 0.  , -4.24],\n",
       "       [ 0.  , -2.83],\n",
       "       [ 0.  , -7.07]])"
      ]
     },
     "execution_count": 15,
     "metadata": {},
     "output_type": "execute_result"
    }
   ],
   "source": [
    "eb_u.round(2)"
   ]
  },
  {
   "cell_type": "code",
   "execution_count": 16,
   "metadata": {},
   "outputs": [
    {
     "data": {
      "text/plain": [
       "array([[-5.66,  0.  ],\n",
       "       [-4.24,  0.  ],\n",
       "       [-7.07,  0.  ],\n",
       "       [ 0.  , -4.24],\n",
       "       [ 0.  , -2.83],\n",
       "       [ 0.  , -7.07]])"
      ]
     },
     "execution_count": 16,
     "metadata": {},
     "output_type": "execute_result"
    }
   ],
   "source": [
    "(X @ eb_m).round(2)"
   ]
  },
  {
   "cell_type": "code",
   "execution_count": 17,
   "metadata": {},
   "outputs": [
    {
     "data": {
      "text/plain": [
       "array([[ 2.  ,  2.  , -1.67, -1.67],\n",
       "       [ 1.  ,  1.  , -1.67, -1.67],\n",
       "       [ 3.  ,  3.  , -1.67, -1.67],\n",
       "       [-2.  , -2.  ,  1.33,  1.33],\n",
       "       [-2.  , -2.  ,  0.33,  0.33],\n",
       "       [-2.  , -2.  ,  3.33,  3.33]])"
      ]
     },
     "execution_count": 17,
     "metadata": {},
     "output_type": "execute_result"
    }
   ],
   "source": [
    "pca = PCA(n_components=k)\n",
    "X_mean = X.mean(axis=0)\n",
    "X_nrm = X - X_mean\n",
    "X_nrm.round(2)"
   ]
  },
  {
   "cell_type": "code",
   "execution_count": 18,
   "metadata": {},
   "outputs": [],
   "source": [
    "U_, s_, Vh_ = la.svd(X_nrm, full_matrices=False)"
   ]
  },
  {
   "cell_type": "code",
   "execution_count": 19,
   "metadata": {},
   "outputs": [
    {
     "data": {
      "text/plain": [
       "array([[-3.68,  0.12],\n",
       "       [-2.62, -0.82],\n",
       "       [-4.74,  1.06],\n",
       "       [ 3.37, -0.47],\n",
       "       [ 2.43, -1.53],\n",
       "       [ 5.25,  1.64]])"
      ]
     },
     "execution_count": 19,
     "metadata": {},
     "output_type": "execute_result"
    }
   ],
   "source": [
    "(pca.fit_transform(X_nrm)).round(2)"
   ]
  },
  {
   "cell_type": "code",
   "execution_count": 20,
   "metadata": {},
   "outputs": [
    {
     "data": {
      "text/plain": [
       "array([[-3.68,  0.12],\n",
       "       [-2.62, -0.82],\n",
       "       [-4.74,  1.06],\n",
       "       [ 3.37, -0.47],\n",
       "       [ 2.43, -1.53],\n",
       "       [ 5.25,  1.64]])"
      ]
     },
     "execution_count": 20,
     "metadata": {},
     "output_type": "execute_result"
    }
   ],
   "source": [
    "eb_u_ = U_[:, :k]*s_[:k]\n",
    "(eb_u_).round(2)"
   ]
  },
  {
   "cell_type": "code",
   "execution_count": 21,
   "metadata": {},
   "outputs": [
    {
     "data": {
      "text/plain": [
       "array([[-0.53,  0.47],\n",
       "       [-0.53,  0.47],\n",
       "       [ 0.47,  0.53],\n",
       "       [ 0.47,  0.53]])"
      ]
     },
     "execution_count": 21,
     "metadata": {},
     "output_type": "execute_result"
    }
   ],
   "source": [
    "eb_m_ = Vh_[:k].T\n",
    "(eb_m_).round(2)"
   ]
  },
  {
   "cell_type": "code",
   "execution_count": 22,
   "metadata": {},
   "outputs": [
    {
     "data": {
      "text/plain": [
       "array([[-0.53, -0.53,  0.47,  0.47],\n",
       "       [ 0.47,  0.47,  0.53,  0.53]])"
      ]
     },
     "execution_count": 22,
     "metadata": {},
     "output_type": "execute_result"
    }
   ],
   "source": [
    "(pca.components_).round(2)"
   ]
  },
  {
   "cell_type": "code",
   "execution_count": 23,
   "metadata": {},
   "outputs": [
    {
     "data": {
      "text/plain": [
       "array([[ 2.  ,  2.  , -1.67, -1.67],\n",
       "       [ 1.  ,  1.  , -1.67, -1.67],\n",
       "       [ 3.  ,  3.  , -1.67, -1.67],\n",
       "       [-2.  , -2.  ,  1.33,  1.33],\n",
       "       [-2.  , -2.  ,  0.33,  0.33],\n",
       "       [-2.  , -2.  ,  3.33,  3.33]])"
      ]
     },
     "execution_count": 23,
     "metadata": {},
     "output_type": "execute_result"
    }
   ],
   "source": [
    "(eb_u_ @ eb_m_.T).round(2)"
   ]
  },
  {
   "cell_type": "code",
   "execution_count": 24,
   "metadata": {},
   "outputs": [
    {
     "data": {
      "text/plain": [
       "array([[ 2.  ,  2.  , -1.67, -1.67],\n",
       "       [ 1.  ,  1.  , -1.67, -1.67],\n",
       "       [ 3.  ,  3.  , -1.67, -1.67],\n",
       "       [-2.  , -2.  ,  1.33,  1.33],\n",
       "       [-2.  , -2.  ,  0.33,  0.33],\n",
       "       [-2.  , -2.  ,  3.33,  3.33]])"
      ]
     },
     "execution_count": 24,
     "metadata": {},
     "output_type": "execute_result"
    }
   ],
   "source": [
    "(X_nrm).round(2)"
   ]
  },
  {
   "cell_type": "code",
   "execution_count": 25,
   "metadata": {},
   "outputs": [
    {
     "data": {
      "text/plain": [
       "array([[-3.68,  0.12],\n",
       "       [-2.62, -0.82],\n",
       "       [-4.74,  1.06],\n",
       "       [ 3.37, -0.47],\n",
       "       [ 2.43, -1.53],\n",
       "       [ 5.25,  1.64]])"
      ]
     },
     "execution_count": 25,
     "metadata": {},
     "output_type": "execute_result"
    }
   ],
   "source": [
    "(eb_u_).round(2)"
   ]
  },
  {
   "cell_type": "code",
   "execution_count": 26,
   "metadata": {},
   "outputs": [
    {
     "data": {
      "text/plain": [
       "array([[-3.68,  0.12],\n",
       "       [-2.62, -0.82],\n",
       "       [-4.74,  1.06],\n",
       "       [ 3.37, -0.47],\n",
       "       [ 2.43, -1.53],\n",
       "       [ 5.25,  1.64]])"
      ]
     },
     "execution_count": 26,
     "metadata": {},
     "output_type": "execute_result"
    }
   ],
   "source": [
    "(X_nrm @ eb_m_).round(2)"
   ]
  }
 ],
 "metadata": {
  "kernelspec": {
   "display_name": "Python 3",
   "language": "python",
   "name": "python3"
  },
  "language_info": {
   "codemirror_mode": {
    "name": "ipython",
    "version": 3
   },
   "file_extension": ".py",
   "mimetype": "text/x-python",
   "name": "python",
   "nbconvert_exporter": "python",
   "pygments_lexer": "ipython3",
   "version": "3.10.0"
  },
  "orig_nbformat": 4
 },
 "nbformat": 4,
 "nbformat_minor": 2
}
