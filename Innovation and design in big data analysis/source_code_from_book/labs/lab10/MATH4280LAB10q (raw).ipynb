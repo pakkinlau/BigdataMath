{
 "cells": [
  {
   "cell_type": "markdown",
   "metadata": {},
   "source": [
    "<h2><center>THE CHINESE UNIVERSITY OF HONG KONG<br /> \n",
    "    Department of Mathematics<br />\n",
    " MATH4280<br />\n",
    "    Innovation and Design in Big Data Analytics</center></h2>\n",
    "\n",
    "# LAB ASSIGNMENT ACTIVITY 10"
   ]
  },
  {
   "cell_type": "markdown",
   "metadata": {},
   "source": [
    "# Question 1\n",
    "\n",
    "We create the input data by summing three different functions and one noise:<br/>\n",
    "$f_1(x,t) = \\text{sech}(x-2)\\exp(i2.3t)$<br/>\n",
    "$f_2(x,t) = 2\\text{sech}(x)\\tanh(x+2)\\exp(i1.5t)$.<br/>\n",
    "$f_3(x,t) = 1.5\\text{sech}(x+2)\\tanh(x+3)\\exp(i3.5t)$.<br/>\n",
    "<br/>\n",
    "$f=f_1(x,t)+f_2(x,t)+f_3(x,t)+\\text{noise}$"
   ]
  },
  {
   "cell_type": "code",
   "execution_count": null,
   "metadata": {},
   "outputs": [],
   "source": [
    "%matplotlib inline\n",
    "import matplotlib.pyplot as plt\n",
    "import numpy as np\n",
    "\n",
    "from pydmd import DMD\n"
   ]
  },
  {
   "cell_type": "code",
   "execution_count": null,
   "metadata": {},
   "outputs": [],
   "source": [
    "def f1(x,t): \n",
    "    return 1./np.cosh(x-2)*np.exp(2.3j*t)\n",
    "\n",
    "def f2(x,t):\n",
    "    return 2./np.cosh(x)*np.tanh(x+2)*np.exp(1.5j*t)\n",
    "\n",
    "def f3(x,t):\n",
    "    return 1.5/np.cosh(x+2)*np.tanh(x+3)*np.exp(3.5j*t)\n",
    "\n",
    "\n",
    "x = np.linspace(-5, 5, 128)\n",
    "t = np.linspace(0, 4*np.pi, 256)\n",
    "\n",
    "xgrid, tgrid = np.meshgrid(x, t)\n",
    "\n",
    "X1 = f1(xgrid, tgrid)\n",
    "X2 = f2(xgrid, tgrid)\n",
    "X3 = f3(xgrid, tgrid)\n",
    "noise = np.random.normal(0.0, 0.4, size=xgrid.shape)\n",
    "X = X1 + X2 + X3 + noise"
   ]
  },
  {
   "cell_type": "code",
   "execution_count": null,
   "metadata": {},
   "outputs": [],
   "source": [
    "titles = ['$f_1(x,t)$', '$f_2(x,t)$','$f_3(x,t)$', '$f$']\n",
    "data = [X1, X2, X3, X]\n",
    "\n",
    "fig = plt.figure(figsize=(19,4))\n",
    "for n, title, d in zip(range(141,145), titles, data):\n",
    "    plt.subplot(n)\n",
    "    plt.pcolor(xgrid, tgrid, d.real)\n",
    "    plt.title(title)\n",
    "plt.colorbar()\n",
    "plt.show()"
   ]
  },
  {
   "cell_type": "markdown",
   "metadata": {},
   "source": [
    "Apply the DMD to the collected data such that the relative error is smaller than 0.1. \n",
    "\n",
    "You may need to adjust the arguments of `DMD`, e.g. `svd_rank`, `tlsq_rank`."
   ]
  },
  {
   "cell_type": "code",
   "execution_count": null,
   "metadata": {},
   "outputs": [],
   "source": [
    "## answer 1\n",
    "\n"
   ]
  },
  {
   "cell_type": "markdown",
   "metadata": {},
   "source": [
    "## Question 2\n",
    "\n"
   ]
  },
  {
   "cell_type": "code",
   "execution_count": null,
   "metadata": {},
   "outputs": [],
   "source": [
    "from numpy import sqrt\n",
    "from pandas import read_csv\n",
    "from pydmd import DMD\n",
    "import numpy as np\n",
    "import matplotlib.pyplot as plt\n",
    "%matplotlib inline\n",
    "import scipy\n",
    "import scipy.integrate\n",
    "\n",
    "df = read_csv('housing_price.csv')\n",
    "data=np.array(df).T\n",
    "plt.plot(data[-1,:])\n",
    "data.shape"
   ]
  },
  {
   "cell_type": "markdown",
   "metadata": {},
   "source": [
    "We look at the `housing` dataset. It contains variables related to the housing price. The last row of `data` is the time series of the housing price.\n",
    "\n",
    "\n",
    "The data is structured like this:\n",
    "$${\\bf D}=\\left[\\begin{array}{cccc}{\\bf x_0} & {\\bf x_1} &\\cdots & {\\bf x_{505}}\\\\\n",
    "p_0 & p_1 &\\cdots& p_{505}\\end{array}\\right]$$\n",
    "\n",
    "where $\\bf x_t$ is a column vector of some related variables (e.g. size of the flat, rating etc) and $p_t$ is the housing price at time $t$.\n",
    "\n",
    "Apply DMD to `data` and find `svd_rank` so that the relative error of reconstructed data is less than 0.4."
   ]
  },
  {
   "cell_type": "code",
   "execution_count": null,
   "metadata": {},
   "outputs": [],
   "source": [
    "## answer 2a\n"
   ]
  },
  {
   "cell_type": "markdown",
   "metadata": {},
   "source": [
    "What is the relative error for the housing price time series (the last row of `data`) for that `svd_rank`?"
   ]
  },
  {
   "cell_type": "code",
   "execution_count": null,
   "metadata": {},
   "outputs": [],
   "source": [
    "## answer 2b\n"
   ]
  },
  {
   "cell_type": "markdown",
   "metadata": {},
   "source": [
    "If we only look at the first 20 days, say\n",
    "$$D_{20} = \\begin{bmatrix}\\mathbf{x}_0 & \\cdots &\\mathbf{x}_{19}\\\\\n",
    "p_0 & \\cdots & p_{19}\n",
    "\\end{bmatrix}$$\n",
    "\n",
    "Apply DMD with a suitable `svd_rank` (within 1 and 14).\n",
    "\n",
    "Make the DMD delta time a quarter of the original and extend the temporal window to  $[0,2t_{org}]$, where $t_{org}$ indicates the time when the last snapshot was caught.\n",
    "\n",
    "Plot the resultant figure along with the original data."
   ]
  },
  {
   "cell_type": "code",
   "execution_count": null,
   "metadata": {},
   "outputs": [],
   "source": [
    "## answer 2c\n"
   ]
  },
  {
   "cell_type": "markdown",
   "metadata": {},
   "source": [
    "Now, we want to only model the time series of `housing_price`, instead of the whole data matrix. \n",
    "\n",
    "Denote the time series by $(p_0,p_1,\\cdots,p_T)$. We can form the Hankel matrix by\n",
    "\n",
    "$$\\begin{align*}\n",
    "H = \\left[\\begin{array}{cccccc}\n",
    "p_0 & p_1 & p_2 & \\cdots & p_{T-k} & p_{T-k+1} \\\\\n",
    "p_1 & p_2 & p_3 & \\cdots & p_{T-k+1} & p_{T-k+2} \\\\\n",
    "\\vdots & \\vdots & \\vdots & \\ddots & \\vdots & \\vdots \\\\\n",
    "p_{k-1} & p_k & p_{k+1} & \\cdots & p_{T-1} & p_{T}\n",
    "\\end{array}\\right]\n",
    "\\end{align*}$$\n",
    "\n",
    "Simply put, each column of $H$ records a window of $k$ consecutive values of the series. \n",
    "\n",
    "Now complete the function `hankel` to construct the Hankel matrix, given a one-dimensional array `ts` denoting the time series and the window size `k`.\n",
    "\n"
   ]
  },
  {
   "cell_type": "code",
   "execution_count": null,
   "metadata": {},
   "outputs": [],
   "source": [
    "housing_price=data[-1,:]\n",
    "def hankel(ts,k):\n",
    "    ## answer of 2d\n",
    "    \n",
    "    "
   ]
  },
  {
   "cell_type": "markdown",
   "metadata": {},
   "source": [
    "By applying DMD to $H$, we are approximating the matrix $\\bf A$,\n",
    "$$\\begin{align*}\n",
    "\\left[\\begin{array}{cccc}\n",
    "p_1 & p_2 & \\cdots & p_{T-k+1} \\\\\n",
    "p_2 & p_3 & \\cdots & p_{T-k+2} \\\\\n",
    "\\vdots & \\vdots & \\vdots & \\vdots \\\\\n",
    "p_{k} & p_{k+1} & \\cdots & p_{T} \\end{array}\\right]\n",
    "\\approx {\\bf A}\n",
    "\\left[\\begin{array}{cccc}\n",
    "p_0 & p_1 & \\cdots & p_{T-k} \\\\\n",
    "p_1 & p_2 & \\cdots & p_{T-k+1} \\\\\n",
    "\\vdots & \\vdots & \\vdots & \\vdots \\\\\n",
    "p_{k-1} & p_{k} & \\cdots & p_{T-1} \\end{array}\\right]\n",
    "\\end{align*}$$\n",
    "\n",
    "Now if we fix `svd_rank=14` and `k`$=10,20,50,100$ or $200$, what is the optimal value for the window size `k` so that the relative reconstruction error is minimal?"
   ]
  },
  {
   "cell_type": "code",
   "execution_count": null,
   "metadata": {},
   "outputs": [],
   "source": [
    "## answer of 2e\n"
   ]
  }
 ],
 "metadata": {
  "interpreter": {
   "hash": "42ea256837e8b580a3e343a3dc491dda7db1afbcb857598bbc8bc7558fc19f2f"
  },
  "kernelspec": {
   "display_name": "Python 3 (ipykernel)",
   "language": "python",
   "name": "python3"
  },
  "language_info": {
   "codemirror_mode": {
    "name": "ipython",
    "version": 3
   },
   "file_extension": ".py",
   "mimetype": "text/x-python",
   "name": "python",
   "nbconvert_exporter": "python",
   "pygments_lexer": "ipython3",
   "version": "3.10.6"
  }
 },
 "nbformat": 4,
 "nbformat_minor": 4
}
