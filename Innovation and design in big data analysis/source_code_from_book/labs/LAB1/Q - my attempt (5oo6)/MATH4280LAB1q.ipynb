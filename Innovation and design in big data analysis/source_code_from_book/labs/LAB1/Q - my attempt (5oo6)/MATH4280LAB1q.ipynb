{
 "cells": [
  {
   "cell_type": "markdown",
   "metadata": {},
   "source": [
    "<h2><center>THE CHINESE UNIVERSITY OF HONG KONG<br /> \n",
    "    Department of Mathematics<br />\n",
    " MATH4280<br />\n",
    "    Innovation and Design in Big Data Analytics</center></h2>\n",
    "\n",
    "# LAB ASSIGNMENT ACTIVITY 1"
   ]
  },
  {
   "cell_type": "markdown",
   "metadata": {},
   "source": [
    "# Question 1\n",
    "\n",
    "Enter"
   ]
  },
  {
   "cell_type": "code",
   "execution_count": 2,
   "metadata": {},
   "outputs": [],
   "source": [
    "import random\n",
    "from random import randint\n",
    "import statistics\n",
    "random.seed(0)\n",
    "grades = [randint(0, 100) for p in range(0, 100)]"
   ]
  },
  {
   "cell_type": "code",
   "execution_count": 3,
   "metadata": {},
   "outputs": [
    {
     "name": "stdout",
     "output_type": "stream",
     "text": [
      "[49, 97, 53, 5, 33, 65, 62, 51, 100, 38, 61, 45, 74, 27, 64, 17, 36, 17, 96, 12, 79, 32, 68, 90, 77, 18, 39, 12, 93, 9, 87, 42, 60, 71, 12, 45, 55, 40, 78, 81, 26, 70, 61, 56, 66, 33, 7, 70, 1, 11, 92, 51, 90, 100, 85, 80, 0, 78, 63, 42, 31, 93, 41, 90, 8, 24, 72, 28, 30, 18, 69, 57, 11, 10, 40, 65, 62, 13, 38, 70, 37, 90, 15, 70, 42, 69, 26, 77, 70, 75, 36, 56, 11, 76, 49, 40, 73, 30, 37, 23]\n"
     ]
    }
   ],
   "source": [
    "print(grades)"
   ]
  },
  {
   "cell_type": "markdown",
   "metadata": {},
   "source": [
    "## Question 1a\n",
    "Without using any library/build-in function, compute the mean, mode and median of the above data \"grades\". You can use `for`, `if`, `while` statement and `range`,`sorted`.\n",
    "(Hints: You may need to look up 'list' and 'append()')"
   ]
  },
  {
   "cell_type": "code",
   "execution_count": 8,
   "metadata": {},
   "outputs": [
    {
     "name": "stdout",
     "output_type": "stream",
     "text": [
      "original data set: [49, 97, 53, 5, 33, 65, 62, 51, 100, 38, 61, 45, 74, 27, 64, 17, 36, 17, 96, 12, 79, 32, 68, 90, 77, 18, 39, 12, 93, 9, 87, 42, 60, 71, 12, 45, 55, 40, 78, 81, 26, 70, 61, 56, 66, 33, 7, 70, 1, 11, 92, 51, 90, 100, 85, 80, 0, 78, 63, 42, 31, 93, 41, 90, 8, 24, 72, 28, 30, 18, 69, 57, 11, 10, 40, 65, 62, 13, 38, 70, 37, 90, 15, 70, 42, 69, 26, 77, 70, 75, 36, 56, 11, 76, 49, 40, 73, 30, 37, 23]\n",
      "mean: 50.44\n",
      "mode: 70\n",
      "madian: 51.0\n"
     ]
    }
   ],
   "source": [
    "## answer 1a\n",
    "\n",
    "def mean(list_of_numbers):\n",
    "    total = 0\n",
    "    for elt in list_of_numbers:\n",
    "        total += elt\n",
    "    return total / len(list_of_numbers)\n",
    "\n",
    "def mode(list_of_numbers):\n",
    "    counter = {}\n",
    "    # write a function that takes a list of numbers and returns the most frequent number\n",
    "    for elt in list_of_numbers:\n",
    "        if elt in counter:\n",
    "            counter[elt] += 1\n",
    "        else:\n",
    "            counter[elt] = 1\n",
    "    return max(counter, key=counter.get)\n",
    "\n",
    "def median(list_of_numbers):\n",
    "    sorted_list = sorted(list_of_numbers)\n",
    "    if len(sorted_list) % 2 == 0:\n",
    "        return (sorted_list[len(sorted_list) // 2 - 1] + sorted_list[len(sorted_list) // 2]) / 2\n",
    "\n",
    "\n",
    "a = mean(grades)\n",
    "b = mode(grades)\n",
    "c = median(grades)\n",
    "print(\"original data set:\", grades)\n",
    "print(\"mean:\",a)\n",
    "print(\"mode:\",b)\n",
    "print(\"madian:\",c)\n",
    "\n",
    "\n",
    "\n",
    "\n",
    "\n"
   ]
  },
  {
   "cell_type": "markdown",
   "metadata": {},
   "source": [
    "## Question 1b\n",
    "Using the library `statistics`, compute the mean, mode and median of the above data \"grades\". "
   ]
  },
  {
   "cell_type": "code",
   "execution_count": 10,
   "metadata": {},
   "outputs": [
    {
     "name": "stdout",
     "output_type": "stream",
     "text": [
      "original data set: [49, 97, 53, 5, 33, 65, 62, 51, 100, 38, 61, 45, 74, 27, 64, 17, 36, 17, 96, 12, 79, 32, 68, 90, 77, 18, 39, 12, 93, 9, 87, 42, 60, 71, 12, 45, 55, 40, 78, 81, 26, 70, 61, 56, 66, 33, 7, 70, 1, 11, 92, 51, 90, 100, 85, 80, 0, 78, 63, 42, 31, 93, 41, 90, 8, 24, 72, 28, 30, 18, 69, 57, 11, 10, 40, 65, 62, 13, 38, 70, 37, 90, 15, 70, 42, 69, 26, 77, 70, 75, 36, 56, 11, 76, 49, 40, 73, 30, 37, 23]\n",
      "mean: 50.44\n",
      "mode: 70\n",
      "madian: 51.0\n"
     ]
    }
   ],
   "source": [
    "## answer 1b\n",
    "import statistics\n",
    "\n",
    "d = statistics.mean(grades)\n",
    "e = statistics.mode(grades)\n",
    "f = statistics.median(grades)\n",
    "print(\"original data set:\", grades)\n",
    "print(\"mean:\",d)\n",
    "print(\"mode:\",e)\n",
    "print(\"madian:\",f)"
   ]
  },
  {
   "cell_type": "markdown",
   "metadata": {},
   "source": [
    "## Question 1c\n",
    "Without using any library/build-in function, compute the variance, standard deviation of the above data \"grades\". You can use `for`, `if`, `while` statement and `range`,`sorted`."
   ]
  },
  {
   "cell_type": "code",
   "execution_count": 15,
   "metadata": {},
   "outputs": [
    {
     "name": "stdout",
     "output_type": "stream",
     "text": [
      "original data set: [49, 97, 53, 5, 33, 65, 62, 51, 100, 38, 61, 45, 74, 27, 64, 17, 36, 17, 96, 12, 79, 32, 68, 90, 77, 18, 39, 12, 93, 9, 87, 42, 60, 71, 12, 45, 55, 40, 78, 81, 26, 70, 61, 56, 66, 33, 7, 70, 1, 11, 92, 51, 90, 100, 85, 80, 0, 78, 63, 42, 31, 93, 41, 90, 8, 24, 72, 28, 30, 18, 69, 57, 11, 10, 40, 65, 62, 13, 38, 70, 37, 90, 15, 70, 42, 69, 26, 77, 70, 75, 36, 56, 11, 76, 49, 40, 73, 30, 37, 23]\n",
      "variance: 754.1074747474747\n",
      "standard variation: 27.46101736548511\n"
     ]
    }
   ],
   "source": [
    "## answer 1c\n",
    "# variance: sum of (elt - sum)\" ^2 / N\n",
    "# standard deviation: sqrt() of variance\n",
    "def mean(list_of_numbers):\n",
    "    total = 0\n",
    "    for elt in list_of_numbers:\n",
    "        total += elt\n",
    "    return total / len(list_of_numbers)\n",
    "\n",
    "def vari(list_of_num):\n",
    "    # tackle the sum first:\n",
    "    mean_of_dataset = mean(list_of_num)\n",
    "    total = 0\n",
    "    for elt in list_of_num:\n",
    "        diff = elt - mean_of_dataset\n",
    "        diff_squared = pow(diff, 2)\n",
    "        total += diff_squared\n",
    "    return total / (len(list_of_num)-1)\n",
    "\n",
    "def stdev(list_of_num):\n",
    "    return pow(vari(list_of_num),0.5)\n",
    "\n",
    "\n",
    "g = vari(grades)\n",
    "h = stdev(grades)\n",
    "print(\"original data set:\", grades)\n",
    "print(\"variance:\",g)\n",
    "print(\"standard variation:\",h)\n",
    "        \n",
    "    \n",
    "    "
   ]
  },
  {
   "cell_type": "markdown",
   "metadata": {},
   "source": [
    "## Question 1d\n",
    "Using the library `statistics`, compute the variance, standard deviation of the above data \"grades\". "
   ]
  },
  {
   "cell_type": "code",
   "execution_count": 14,
   "metadata": {},
   "outputs": [
    {
     "name": "stdout",
     "output_type": "stream",
     "text": [
      "original data set: [49, 97, 53, 5, 33, 65, 62, 51, 100, 38, 61, 45, 74, 27, 64, 17, 36, 17, 96, 12, 79, 32, 68, 90, 77, 18, 39, 12, 93, 9, 87, 42, 60, 71, 12, 45, 55, 40, 78, 81, 26, 70, 61, 56, 66, 33, 7, 70, 1, 11, 92, 51, 90, 100, 85, 80, 0, 78, 63, 42, 31, 93, 41, 90, 8, 24, 72, 28, 30, 18, 69, 57, 11, 10, 40, 65, 62, 13, 38, 70, 37, 90, 15, 70, 42, 69, 26, 77, 70, 75, 36, 56, 11, 76, 49, 40, 73, 30, 37, 23]\n",
      "variance: 754.1074747474747\n",
      "standard variation: 27.46101736548511\n"
     ]
    }
   ],
   "source": [
    "## answer 1d\n",
    "import statistics\n",
    "\n",
    "i = statistics.variance(grades)\n",
    "j = statistics.stdev(grades)\n",
    "print(\"original data set:\", grades)\n",
    "print(\"variance:\",i)\n",
    "print(\"standard variation:\",j)\n"
   ]
  },
  {
   "cell_type": "markdown",
   "metadata": {},
   "source": [
    "# Question 2\n",
    "## Case Study: A Game of Chance\n",
    "we simulate a game similar to the popular dice game known as “craps.” Here is the requirements statement:\n",
    "\n",
    "You roll three sixsided dice, each with faces containing one, two, three, four, five and\n",
    "six spots, respectively. When the dice come to rest, the sum of the spots on the two\n",
    "upward faces is calculated. If the sum is 10 on the first roll, you win. If the sum is\n",
    " 3 or 18 on the first roll (called “craps”), you lose (i.e., the “house” wins). If the sum is\n",
    "other number besides 3,10,18 on the first roll, that sum becomes your “point.” To win, you must\n",
    "continue rolling the dice until you “make your point” (i.e., roll that same point value).\n",
    "You lose by rolling a 10 before making your point."
   ]
  },
  {
   "cell_type": "markdown",
   "metadata": {},
   "source": [
    "## Question 2a\n",
    "Using the `random` library, define a function to roll three dice and return their face values as a tuple"
   ]
  },
  {
   "cell_type": "code",
   "execution_count": 17,
   "metadata": {},
   "outputs": [],
   "source": [
    "## answer 2a\n",
    "import random\n",
    "\n",
    "def roll_dice():\n",
    "    \"\"\"Roll three dice and return their face values as a tuple.\"\"\"\n",
    "    die1 = random.randint(1, 6)\n",
    "    die2 = random.randint(1, 6)\n",
    "    die3 = random.randint(1, 6)\n",
    "    return (die1, die2, die3)  # pack die face values into a tuple\n"
   ]
  },
  {
   "cell_type": "markdown",
   "metadata": {},
   "source": [
    "## Question 2b\n",
    "Define a function to display the values of one roll of the three dice and the sum of the three dice.\n",
    "\n",
    "Example output:\n",
    "\n",
    "```\n",
    "Player rolled 4 + 4 + 4 = 12\n",
    "```\n",
    "\n",
    "```\n",
    "Player rolled 6 + 5 + 3 = 14\n",
    "```"
   ]
  },
  {
   "cell_type": "code",
   "execution_count": 22,
   "metadata": {},
   "outputs": [
    {
     "name": "stdout",
     "output_type": "stream",
     "text": [
      "Player rolled 2 + 2 + 1 = 5\n",
      "Player rolled 5 + 6 + 3 = 14\n"
     ]
    }
   ],
   "source": [
    "## answer 2b\n",
    "\n",
    "def display_dice(dice: list):\n",
    "    \"\"\"Display one roll of the three dice.\"\"\"\n",
    "    \n",
    "    print(f\"Player rolled {dice[0]} + {dice[1]} + {dice[2]} = {sum(dice)}\")\n",
    "\n",
    "event1 = roll_dice()\n",
    "event2 = roll_dice()\n",
    "display_dice(event1)\n",
    "display_dice(event2)\n",
    "\n"
   ]
  },
  {
   "cell_type": "markdown",
   "metadata": {},
   "source": [
    "## Question 2c\n",
    "Using the above two function, simulate the game discribed above. For the first round, roll the three dice and print out what the point value is. Then continue rolling the dice until you “make your point” (i.e., roll that same point value) or you lose by rolling a 10 before making your point.\n",
    "\n",
    "1st Example output:\n",
    "\n",
    "```\n",
    "Player rolled 4 + 4 + 4 = 12\n",
    "Point is 12\n",
    "Player rolled 6 + 5 + 3 = 14\n",
    "Player rolled 5 + 3 + 5 = 13\n",
    "Player rolled 4 + 6 + 5 = 15\n",
    "Player rolled 4 + 6 + 5 = 15\n",
    "Player rolled 4 + 6 + 3 = 13\n",
    "Player rolled 2 + 2 + 3 = 7\n",
    "Player rolled 2 + 6 + 2 = 10\n",
    "Player loses\n",
    "```\n",
    "\n",
    "2nd Example output:\n",
    "```\n",
    "Player rolled 4 + 2 + 3 = 9\n",
    "Point is 9\n",
    "Player rolled 5 + 5 + 1 = 11\n",
    "Player rolled 2 + 4 + 3 = 9\n",
    "Player wins\n",
    "```\n",
    "\n",
    "3rd Example output:\n",
    "```\n",
    "Player rolled 2 + 6 + 2 = 10\n",
    "Player wins\n",
    "```\n",
    "\n",
    "4th Example output:\n",
    "```\n",
    "Player rolled 1 + 1 + 1 = 3\n",
    "Player loses\n",
    "```"
   ]
  },
  {
   "cell_type": "code",
   "execution_count": 40,
   "metadata": {
    "scrolled": true
   },
   "outputs": [
    {
     "name": "stdout",
     "output_type": "stream",
     "text": [
      "1st example output:\n",
      "Player rolled 2 + 2 + 4 = 8\n",
      "Point is 8\n",
      "Player rolled 6 + 1 + 4 = 11\n",
      "Player rolled 6 + 1 + 6 = 13\n",
      "Player rolled 6 + 3 + 2 = 11\n",
      "Player rolled 4 + 5 + 1 = 10\n",
      "Player loses\n",
      "\n",
      "2nd example output:\n",
      "Player rolled 4 + 3 + 3 = 10\n",
      "Point is 10\n",
      "Player rolled 5 + 1 + 5 = 11\n",
      "Player rolled 5 + 4 + 6 = 15\n",
      "Player rolled 1 + 4 + 6 = 11\n",
      "Player rolled 1 + 2 + 1 = 4\n",
      "Player rolled 1 + 6 + 5 = 12\n",
      "Player rolled 3 + 6 + 1 = 10\n",
      "Player loses\n",
      "\n",
      "3rd example output:\n",
      "Player rolled 5 + 1 + 2 = 8\n",
      "Point is 8\n",
      "Player rolled 1 + 1 + 3 = 5\n",
      "Player rolled 1 + 5 + 2 = 8\n",
      "Player wins\n",
      "\n",
      "4th example output:\n",
      "Player rolled 3 + 2 + 4 = 9\n",
      "Point is 9\n",
      "Player rolled 5 + 1 + 1 = 7\n",
      "Player rolled 5 + 6 + 5 = 16\n",
      "Player rolled 4 + 2 + 2 = 8\n",
      "Player rolled 1 + 3 + 3 = 7\n",
      "Player rolled 3 + 2 + 2 = 7\n",
      "Player rolled 5 + 6 + 6 = 17\n",
      "Player rolled 1 + 5 + 1 = 7\n",
      "Player rolled 6 + 2 + 1 = 9\n",
      "Player wins\n"
     ]
    }
   ],
   "source": [
    "## answer 2c\n",
    "\n",
    "def simulate():\n",
    "    first_roll = roll_dice()\n",
    "    display_dice(first_roll)\n",
    "    first_roll_total = sum(first_roll)\n",
    "    print(f\"Point is {first_roll_total}\")\n",
    "    while True:\n",
    "        tuple_of_next_roll = roll_dice()\n",
    "        subsequent_roll = display_dice(tuple_of_next_roll)\n",
    "        total_pts = sum(tuple_of_next_roll)\n",
    "        if total_pts==10:\n",
    "            print(\"Player loses\")\n",
    "            break\n",
    "        if total_pts==first_roll_total:\n",
    "            print(\"Player wins\")\n",
    "            break\n",
    "        \n",
    "print(\"1st example output:\")\n",
    "simulate()\n",
    "\n",
    "print(\"\\n2nd example output:\")\n",
    "simulate()\n",
    "\n",
    "print(\"\\n3rd example output:\")\n",
    "simulate()\n",
    "\n",
    "print(\"\\n4th example output:\")\n",
    "simulate()\n",
    "\n"
   ]
  },
  {
   "cell_type": "markdown",
   "metadata": {},
   "source": [
    "# Question 3\n",
    "Enter"
   ]
  },
  {
   "cell_type": "code",
   "execution_count": 27,
   "metadata": {},
   "outputs": [],
   "source": [
    "import random \n",
    "from math import sqrt"
   ]
  },
  {
   "cell_type": "markdown",
   "metadata": {},
   "source": [
    "## Question 3a\n",
    "Using `sqrt` to define a function calculating Euclidean distance from the input $(x,y)$ to $(0,0)$ as the output."
   ]
  },
  {
   "cell_type": "code",
   "execution_count": 41,
   "metadata": {},
   "outputs": [],
   "source": [
    "## answer 3a\n",
    "### Euclidean distance calculator \n",
    "def dist_cal(x, y):\n",
    "    distance = sqrt(x**2 + y**2)\n",
    "    return distance\n"
   ]
  },
  {
   "cell_type": "markdown",
   "metadata": {},
   "source": [
    "## Question 3b\n",
    "One can easily estimate pi value by implementing simple simulation experiments. We apply basic monte carlo method to approximate the real value of pi. The main story of the experiment is if we have a perfectly fit circle in a square, and if we start to toss coins inside to this square, at the end, how many coins would we have in the circle.\n",
    "\n",
    "This experiment will help us to approximate the real pi value. Assuming \"r\" to be the radius of the circle and \"2r\" to be the length of the sides of the square, the ratio of the area of the circle to the area of the square will be “π/4”. This means that the ratio of the number of coins inside the circle to the total number of coins we toss(n) is also approaching “π/4” as we increase the our experiment size “$n$”( total #of tosses).\n",
    "\n",
    "For each trial, first generate random $(x,y)$ from -10000 to 10000, then check whether the Euclidean distance from the input $(x,y)$ to $(0,0)$ is smaller than 10000. If yes, the point is inside the circle. Hence, $\\frac{4\\times \\text{number inside circle}}{\\text{number of trials}}$  will approximate the pi value. Write a script to perform the above monte carlo method for $n=1000$. Also, print out the approximate value of $\\pi$.\n",
    "\n",
    "(Hints: You may need to look up 'randint()')"
   ]
  },
  {
   "cell_type": "code",
   "execution_count": 44,
   "metadata": {},
   "outputs": [
    {
     "name": "stdout",
     "output_type": "stream",
     "text": [
      "Simulation result: 3.208\n"
     ]
    }
   ],
   "source": [
    "## answer 3b\n",
    "import random\n",
    "from math import pi\n",
    "\n",
    "total_number_of_trials = 1000\n",
    "inside = 0\n",
    "\n",
    "for i in range(0,total_number_of_trials):\n",
    "    toss_x, toss_y = random.randint(-10000,10000),random.randint(-10000,10000)\n",
    "    distance = dist_cal(toss_x,toss_y)\n",
    "    if distance < 10000:\n",
    "        inside+=1\n",
    "\n",
    "approx = 4*inside / total_number_of_trials\n",
    "print(f\"Simulation result: {approx}\")\n",
    "    "
   ]
  }
 ],
 "metadata": {
  "kernelspec": {
   "display_name": "Python 3 (ipykernel)",
   "language": "python",
   "name": "python3"
  },
  "language_info": {
   "codemirror_mode": {
    "name": "ipython",
    "version": 3
   },
   "file_extension": ".py",
   "mimetype": "text/x-python",
   "name": "python",
   "nbconvert_exporter": "python",
   "pygments_lexer": "ipython3",
   "version": "3.10.12"
  }
 },
 "nbformat": 4,
 "nbformat_minor": 4
}
