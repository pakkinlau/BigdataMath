{
 "cells": [
  {
   "cell_type": "markdown",
   "metadata": {},
   "source": [
    "<h2><center>THE CHINESE UNIVERSITY OF HONG KONG<br /> \n",
    "    Department of Mathematics<br />\n",
    " MATH4280<br />\n",
    "    Innovation and Design in Big Data Analytics</center></h2>\n",
    "\n",
    "# LAB ASSIGNMENT ACTIVITY 1"
   ]
  },
  {
   "cell_type": "markdown",
   "metadata": {},
   "source": [
    "# Question 1\n",
    "\n",
    "Enter"
   ]
  },
  {
   "cell_type": "code",
   "execution_count": 23,
   "metadata": {},
   "outputs": [],
   "source": [
    "import random\n",
    "from random import randint\n",
    "import statistics\n",
    "random.seed(0)\n",
    "grades = [randint(0, 100) for p in range(0, 100)]"
   ]
  },
  {
   "cell_type": "code",
   "execution_count": 24,
   "metadata": {},
   "outputs": [
    {
     "name": "stdout",
     "output_type": "stream",
     "text": [
      "[49, 97, 53, 5, 33, 65, 62, 51, 100, 38, 61, 45, 74, 27, 64, 17, 36, 17, 96, 12, 79, 32, 68, 90, 77, 18, 39, 12, 93, 9, 87, 42, 60, 71, 12, 45, 55, 40, 78, 81, 26, 70, 61, 56, 66, 33, 7, 70, 1, 11, 92, 51, 90, 100, 85, 80, 0, 78, 63, 42, 31, 93, 41, 90, 8, 24, 72, 28, 30, 18, 69, 57, 11, 10, 40, 65, 62, 13, 38, 70, 37, 90, 15, 70, 42, 69, 26, 77, 70, 75, 36, 56, 11, 76, 49, 40, 73, 30, 37, 23]\n"
     ]
    }
   ],
   "source": [
    "print(grades)"
   ]
  },
  {
   "cell_type": "markdown",
   "metadata": {},
   "source": [
    "## Question 1a\n",
    "Without using any library/build-in function, compute the mean, mode, median of the above data \"grades\". You can use `for`, `if`, `while` statement and `range`,`sorted`."
   ]
  },
  {
   "cell_type": "code",
   "execution_count": 25,
   "metadata": {},
   "outputs": [
    {
     "name": "stdout",
     "output_type": "stream",
     "text": [
      "50.44\n",
      "[70]\n",
      "51.0\n"
     ]
    }
   ],
   "source": [
    "## answer 1a\n",
    "sumg=0\n",
    "leng=0\n",
    "for item in grades:\n",
    "    sumg+=item\n",
    "    leng+=1\n",
    "mean=sumg/leng\n",
    "print(mean)\n",
    "\n",
    "gradeList = []\n",
    "gradeFreq = []\n",
    "max_freq = 0\n",
    "for item in grades:\n",
    "    if item in gradeList:\n",
    "        gradeFreq[gradeList.index(item)]+=1\n",
    "        if gradeFreq[gradeList.index(item)]>max_freq:\n",
    "            max_freq = gradeFreq[gradeList.index(item)]\n",
    "    else:\n",
    "        gradeList.append(item)\n",
    "        gradeFreq.append(1)\n",
    "\n",
    "ind_count = 0\n",
    "mode_ind = []\n",
    "for k in gradeFreq:\n",
    "    if k == max_freq:\n",
    "        mode_ind.append(ind_count)\n",
    "    ind_count+=1\n",
    "mode = [gradeList[i] for i in mode_ind]\n",
    "print(mode)\n",
    "\n",
    "\n",
    "sortgrade=sorted(grades)\n",
    "if leng%2==0:\n",
    "    median=(sortgrade[leng//2-1]+sortgrade[leng//2])/2\n",
    "else:\n",
    "    median=sortgrade[leng//2]/2\n",
    "\n",
    "print(median)\n"
   ]
  },
  {
   "cell_type": "markdown",
   "metadata": {},
   "source": [
    "## Question 1b\n",
    "Using the library `statistics`, compute the mean, mode and median of the above data \"grades\". "
   ]
  },
  {
   "cell_type": "code",
   "execution_count": 26,
   "metadata": {},
   "outputs": [
    {
     "name": "stdout",
     "output_type": "stream",
     "text": [
      "50.44\n",
      "70\n",
      "51.0\n"
     ]
    }
   ],
   "source": [
    "## answer 1b\n",
    "print(statistics.mean(grades))\n",
    "print(statistics.mode(grades))\n",
    "print(statistics.median(grades))\n"
   ]
  },
  {
   "cell_type": "markdown",
   "metadata": {},
   "source": [
    "## Question 1c\n",
    "Without using any library/build-in function, compute the variance, standard deviation of the above data \"grades\". You can use `for`, `if`, `while` statement and `range`,`sorted`."
   ]
  },
  {
   "cell_type": "code",
   "execution_count": 27,
   "metadata": {},
   "outputs": [
    {
     "name": "stdout",
     "output_type": "stream",
     "text": [
      "754.1074747474747\n",
      "27.46101736548511\n"
     ]
    }
   ],
   "source": [
    "## answer 1c\n",
    "variance=0\n",
    "for item in grades:\n",
    "    variance+=(item-mean)**2\n",
    "variance=variance/(leng-1)  \n",
    "print(variance)\n",
    "stdev=variance**(0.5)\n",
    "print(stdev)\n"
   ]
  },
  {
   "cell_type": "markdown",
   "metadata": {},
   "source": [
    "## Question 1d\n",
    "Using the library `statistics`, compute the variance, standard deviation of the above data \"grades\". "
   ]
  },
  {
   "cell_type": "code",
   "execution_count": 28,
   "metadata": {},
   "outputs": [
    {
     "name": "stdout",
     "output_type": "stream",
     "text": [
      "754.1074747474747\n",
      "27.46101736548511\n"
     ]
    }
   ],
   "source": [
    "## answer 1d\n",
    "\n",
    "print(statistics.variance(grades))\n",
    "print(statistics.stdev(grades))"
   ]
  },
  {
   "cell_type": "markdown",
   "metadata": {},
   "source": [
    "# Question 2\n",
    "## Case Study: A Game of Chance\n",
    "we simulate a game similar to the popular dice game known as “craps.” Here is the requirements statement:\n",
    "\n",
    "You roll three sixsided dice, each with faces containing one, two, three, four, five and\n",
    "six spots, respectively. When the dice come to rest, the sum of the spots on the two\n",
    "upward faces is calculated. If the sum is 10 on the first roll, you win. If the sum is\n",
    " 3 or 18 on the first roll (called “craps”), you lose (i.e., the “house” wins). If the sum is\n",
    "other number besides 3,10,18 on the first roll, that sum becomes your “point.” To win, you must\n",
    "continue rolling the dice until you “make your point” (i.e., roll that same point value).\n",
    "You lose by rolling a 10 before making your point."
   ]
  },
  {
   "cell_type": "markdown",
   "metadata": {},
   "source": [
    "## Question 2a\n",
    "Using the `random` library, define a function to roll three dice and return their face values as a tuple"
   ]
  },
  {
   "cell_type": "code",
   "execution_count": 29,
   "metadata": {},
   "outputs": [],
   "source": [
    "## answer 1a\n",
    "\n",
    "def roll_dice():\n",
    "    \"\"\"Roll two dice and return their face values as a tuple.\"\"\"\n",
    "    die1 = random.randrange(1, 7)\n",
    "    die2 = random.randrange(1, 7)\n",
    "    die3 = random.randrange(1, 7)\n",
    "    return (die1, die2, die3)  # pack die face values into a tuple\n"
   ]
  },
  {
   "cell_type": "markdown",
   "metadata": {},
   "source": [
    "## Question 2b\n",
    "Define a function to display the values of one roll of the three dice and the sum of the three dice.\n",
    "\n",
    "Example output:\n",
    "\n",
    "```\n",
    "Player rolled 4 + 4 + 4 = 12\n",
    "```\n",
    "\n",
    "```\n",
    "Player rolled 6 + 5 + 3 = 14\n",
    "```"
   ]
  },
  {
   "cell_type": "code",
   "execution_count": 30,
   "metadata": {},
   "outputs": [],
   "source": [
    "## answer 1b\n",
    "\n",
    "def display_dice(dice):\n",
    "    \"\"\"Display one roll of the two dice.\"\"\"\n",
    "    die1, die2, die3 = dice  # unpack the tuple into variables die1 and die2\n",
    "    print(f'Player rolled {die1} + {die2} + {die3} = {sum(dice)}')\n"
   ]
  },
  {
   "cell_type": "markdown",
   "metadata": {},
   "source": [
    "## Question 2c\n",
    "Using the above two function, simulate the game discribed above. For the first round, roll the three dice and print out what the point value is. Then continue rolling the dice until you “make your point” (i.e., roll that same point value) or you lose by rolling a 10 before making your point.\n",
    "\n",
    "1st Example output:\n",
    "\n",
    "```\n",
    "Player rolled 4 + 4 + 4 = 12\n",
    "Point is 12\n",
    "Player rolled 6 + 5 + 3 = 14\n",
    "Player rolled 5 + 3 + 5 = 13\n",
    "Player rolled 4 + 6 + 5 = 15\n",
    "Player rolled 4 + 6 + 5 = 15\n",
    "Player rolled 4 + 6 + 3 = 13\n",
    "Player rolled 2 + 2 + 3 = 7\n",
    "Player rolled 2 + 6 + 2 = 10\n",
    "Player loses\n",
    "```\n",
    "\n",
    "2nd Example output:\n",
    "```\n",
    "Player rolled 4 + 2 + 3 = 9\n",
    "Point is 9\n",
    "Player rolled 5 + 5 + 1 = 11\n",
    "Player rolled 2 + 4 + 3 = 9\n",
    "Player wins\n",
    "```\n",
    "\n",
    "3rd Example output:\n",
    "```\n",
    "Player rolled 2 + 6 + 2 = 10\n",
    "Player wins\n",
    "```\n",
    "\n",
    "4th Example output:\n",
    "```\n",
    "Player rolled 1 + 1 + 1 = 3\n",
    "Player loses\n",
    "```"
   ]
  },
  {
   "cell_type": "code",
   "execution_count": 31,
   "metadata": {
    "scrolled": true
   },
   "outputs": [
    {
     "name": "stdout",
     "output_type": "stream",
     "text": [
      "Player rolled 2 + 2 + 1 = 5\n",
      "Point is 5\n",
      "Player rolled 5 + 6 + 3 = 14\n",
      "Player rolled 4 + 1 + 1 = 6\n",
      "Player rolled 6 + 2 + 2 = 10\n",
      "Player loses\n"
     ]
    }
   ],
   "source": [
    "## answer 1c\n",
    "\n",
    "die_values = roll_dice()  # first roll\n",
    "display_dice(die_values)\n",
    "\n",
    "# determine game status and point, based on first roll\n",
    "sum_of_dice = sum(die_values)\n",
    "\n",
    "if sum_of_dice in (10,):  # win\n",
    "    game_status = 'WON'\n",
    "elif sum_of_dice in ( 3, 18):  # lose\n",
    "    game_status = 'LOST'\n",
    "else:  # remember point\n",
    "    game_status = 'CONTINUE'\n",
    "    my_point = sum_of_dice\n",
    "    print('Point is', my_point)\n",
    "\n",
    "# continue rolling until player wins or loses\n",
    "while game_status == 'CONTINUE':\n",
    "    die_values = roll_dice()\n",
    "    display_dice(die_values)\n",
    "    sum_of_dice = sum(die_values)\n",
    "\n",
    "    if sum_of_dice == my_point:  # win by making point\n",
    "        game_status = 'WON'\n",
    "    elif sum_of_dice == 10:  # lose by rolling 10\n",
    "        game_status = 'LOST'\n",
    "\n",
    "# display \"wins\" or \"loses\" message\n",
    "if game_status == 'WON':\n",
    "    print('Player wins')\n",
    "else:\n",
    "    print('Player loses')"
   ]
  },
  {
   "cell_type": "markdown",
   "metadata": {},
   "source": [
    "# Question 3\n",
    "Enter"
   ]
  },
  {
   "cell_type": "code",
   "execution_count": 32,
   "metadata": {},
   "outputs": [],
   "source": [
    "import random \n",
    "from math import sqrt"
   ]
  },
  {
   "cell_type": "markdown",
   "metadata": {},
   "source": [
    "## Question 3a\n",
    "Using `sqrt` to define a function calculating Euclidean distance from the input $(x,y)$ to $(0,0)$ as the output."
   ]
  },
  {
   "cell_type": "code",
   "execution_count": 33,
   "metadata": {},
   "outputs": [],
   "source": [
    "\n",
    "### Euclidean distance calculator \n",
    "def dist_cal (x, y):\n",
    "    distance = sqrt((x - 0)**2 + (y -0)**2)\n",
    "    return distance\n"
   ]
  },
  {
   "cell_type": "markdown",
   "metadata": {},
   "source": [
    "## Question 3b\n",
    "One can easily estimate pi value by implementing simple simulation experiments. We apply basic monte carlo method to approximate the real value of pi. The main story of the experiment is if we have a perfectly fit circle in a square, and if we start to toss coins inside to this square, at the end, how many coins would we have in the circle.\n",
    "\n",
    "This experiment will help us to approximate the real pi value. Assuming \"r\" to be the radius of the circle and \"2r\" to be the length of the one side of the square, the ratio of the area of the circle to the area of the square will be “π/4”. This means that the ratio of the number of coins inside the circle to the total number of coins we toss(n) is also approximating to “π/4” as we increase the our experiment size “$n$”( total #of tosses).\n",
    "\n",
    "For each trial, first generate random $(x,y)$ from -10000 to 10000, then check whether the Euclidean distance from the input $(x,y)$ to $(0,0)$ is smaller than 10000. If yes, the point is inside the circle. Hence, $\\frac{4\\times \\text{number inside circle}}{\\text{number of trials}}$  will approximate the pi value. Write a script to perform the above monte carlo method for $n=1000$. Also, print out the approximate value of $\\pi$."
   ]
  },
  {
   "cell_type": "code",
   "execution_count": 34,
   "metadata": {},
   "outputs": [
    {
     "name": "stdout",
     "output_type": "stream",
     "text": [
      "3.12800000\n"
     ]
    }
   ],
   "source": [
    "\n",
    "inside = 0\n",
    "outside = 0\n",
    "n_val = 1000\n",
    "\n",
    "for i in range(n_val):\n",
    "    x=random.randint(-10000,10000)\n",
    "    y=random.randint(-10000,10000)\n",
    "\n",
    "    if dist_cal(x,y) <= 10000:\n",
    "        inside += 1\n",
    "\n",
    "  \n",
    "print ('%0.8f' % (4*inside / (n_val)))"
   ]
  }
 ],
 "metadata": {
  "kernelspec": {
   "display_name": "Python 3 (ipykernel)",
   "language": "python",
   "name": "python3"
  },
  "language_info": {
   "codemirror_mode": {
    "name": "ipython",
    "version": 3
   },
   "file_extension": ".py",
   "mimetype": "text/x-python",
   "name": "python",
   "nbconvert_exporter": "python",
   "pygments_lexer": "ipython3",
   "version": "3.9.12"
  }
 },
 "nbformat": 4,
 "nbformat_minor": 4
}
