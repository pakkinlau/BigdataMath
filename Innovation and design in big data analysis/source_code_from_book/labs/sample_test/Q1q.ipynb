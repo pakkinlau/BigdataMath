{
 "cells": [
  {
   "cell_type": "markdown",
   "id": "8958d3d8",
   "metadata": {},
   "source": [
    "<h2><center>THE CHINESE UNIVERSITY OF HONG KONG<br /> \n",
    "    Department of Mathematics<br />\n",
    " MATH4280<br />\n",
    "    Innovation and Design in Big Data Analytics<br />\n",
    "    Sample test </center></h2>\n",
    "    \n",
    "\n",
    "\n",
    "## Question 1"
   ]
  },
  {
   "cell_type": "markdown",
   "id": "3c1db7eb",
   "metadata": {},
   "source": [
    "You are now given a dataset, containing a three dimensional time series. The coordinates are given as `x`,`y` and `z`. The series has `10000` time steps. "
   ]
  },
  {
   "cell_type": "code",
   "execution_count": null,
   "id": "d1efc404",
   "metadata": {},
   "outputs": [],
   "source": [
    "import pandas as pd\n",
    "import plotly.express as px\n",
    "import numpy as np\n",
    "df=pd.read_csv('Q1.csv')\n",
    "data=np.array(df.iloc[0:100000:10,1:]).T\n",
    "fig=px.line_3d(x=data[0],y=data[1],z=data[2])\n",
    "fig.show()"
   ]
  },
  {
   "cell_type": "markdown",
   "id": "364e43a9",
   "metadata": {},
   "source": [
    "We now would like to do regression of the trajectory in the following form:\n",
    "\n",
    "Suppose ${\\bf D}= [d_0,d_1,\\cdots,d_{9999}]$ is the time series, where $d_t = [x_t,y_t,z_t]^T$ denotes the coordinates at time $t$. We want to use a neural network $\\Phi_{NN}:\\mathbb{R}^3 \\rightarrow \\mathbb{R}^3$ such that \n",
    "$$\\Phi_{NN}([x_t,y_t,z_t]^T)=[x_{t+1},y_{t+1},z_{t+1}]^T,$$\n",
    "to predict the coordinate of the next step.\n",
    "\n",
    "We have the following requirement:\n",
    "- Training-Validating-Testing:\n",
    "\n",
    "1. Use the first 8000 steps as the training data. (i.e. the training input-output pairs are $[(d_0,d_1),(d_1,d_2),\\cdots,(d_{7999},d_{8000})]$). \n",
    "2. Use `0.2` for `validation_split`. \n",
    "\n",
    "3. Use the remaining steps as the testing data.\n",
    "\n",
    "4. Training Epoch should be not greater than `1000` and batchsize=`200`.\n",
    "\n",
    "- Performance:\n",
    "\n",
    "1. Attain an MSE (on the testing data) less than `0.01`.\n",
    "\n",
    "The MSE should be computed by this:\n",
    "\n",
    "Denote your prediction by $P=[p_{8000},p_{8001},\\cdots,p_{9999}]$.\n",
    "The MSE is defined by \n",
    "$$\\frac{1}{2000}\\sum_{k=8000}^{9999}(p_k-d_k)^2$$\n",
    "\n",
    "\n",
    "\n",
    "2. Save your model as a `h5` file (named `q1a.h5`) and submit it with the jupyter notebook.\n"
   ]
  },
  {
   "cell_type": "code",
   "execution_count": null,
   "id": "04573dca",
   "metadata": {},
   "outputs": [],
   "source": [
    "## answer of 1a\n"
   ]
  },
  {
   "cell_type": "markdown",
   "id": "4e02c18f",
   "metadata": {},
   "source": [
    "Plot the training loss and validation loss (MSE)."
   ]
  },
  {
   "cell_type": "code",
   "execution_count": null,
   "id": "dd622490",
   "metadata": {},
   "outputs": [],
   "source": [
    "## answer of 1b\n"
   ]
  },
  {
   "cell_type": "markdown",
   "id": "92850b08",
   "metadata": {},
   "source": [
    "But in reality, if we want to do long-term predictions (next few steps instead just one step), we need to use our previous predictions for the future ones. \n",
    "\n",
    "Now, train a neural network under the same requirement above to predict the trajectory for the next 100 steps ($t=8001,\\cdots,8100$) using the same training set, so that the MSE is less than `100`.\n",
    "\n",
    "In other words, for $t\\geq 8001$ (testing phase), your prediction should base on your previous prediction, instead of the testing data.\n",
    "\n",
    "i.e. $$p_{t+1}=\\Phi_{NN}(p_{t})$$\n",
    "but NOT\n",
    "$$p_{t+1}=\\Phi_{NN}(d_{t})$$\n",
    "\n",
    "Predict the trajectory for $t=8001,\\cdots,8100$ and calculate the mean squared error.\n",
    "\n",
    "Save your model as `q1b.h5` and submit it with the jupyter notebook."
   ]
  },
  {
   "cell_type": "code",
   "execution_count": null,
   "id": "fac56e5d",
   "metadata": {},
   "outputs": [],
   "source": [
    "## answer of 1c\n"
   ]
  },
  {
   "cell_type": "code",
   "execution_count": null,
   "id": "8980e356",
   "metadata": {},
   "outputs": [],
   "source": [
    "from tensorflow.keras.models import load_model\n",
    "import plotly.graph_objects as go\n",
    "import numpy as np\n",
    "\n",
    "model = load_model('q1b.h5')\n",
    "in_tmp = data[:, 8000].T\n",
    "pred = np.zeros((3, 100))\n",
    "\n",
    "for t, _ in enumerate(range(8000, 8100)):\n",
    "    in_tmp = model.predict(in_tmp.reshape(1, -1), verbose=0)\n",
    "    pred[:, t] = in_tmp\n",
    "\n",
    "plot_fig = go.Figure(data=go.Scatter3d(\n",
    "    x=pred[0], y=pred[1], z=pred[2], mode='lines',\n",
    "    line=dict(color='blue')\n",
    "))\n",
    "\n",
    "actual_traj = data[:, 8001:8101]\n",
    "plot_fig.add_trace(go.Scatter3d(\n",
    "    x=actual_traj[0], y=actual_traj[1], z=actual_traj[2], mode='lines',\n",
    "    line=dict(color='red')\n",
    "))\n",
    "\n",
    "print(f'MSE: {((pred[:,:100] - actual_traj) ** 2).mean()}')\n",
    "plot_fig.show()\n"
   ]
  }
 ],
 "metadata": {
  "kernelspec": {
   "display_name": "Python 3 (ipykernel)",
   "language": "python",
   "name": "python3"
  },
  "language_info": {
   "codemirror_mode": {
    "name": "ipython",
    "version": 3
   },
   "file_extension": ".py",
   "mimetype": "text/x-python",
   "name": "python",
   "nbconvert_exporter": "python",
   "pygments_lexer": "ipython3",
   "version": "3.10.6"
  }
 },
 "nbformat": 4,
 "nbformat_minor": 5
}
