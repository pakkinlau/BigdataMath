{
 "cells": [
  {
   "cell_type": "markdown",
   "id": "a3c9bb35",
   "metadata": {},
   "source": [
    "<h2><center>THE CHINESE UNIVERSITY OF HONG KONG<br /> \n",
    "    Department of Mathematics<br />\n",
    " MATH4280<br />\n",
    "    Innovation and Design in Big Data Analytics<br />\n",
    "    Sample Test</center></h2>\n",
    "    \n",
    "\n",
    "## Question 2"
   ]
  },
  {
   "cell_type": "code",
   "execution_count": null,
   "id": "3b6b9cfc",
   "metadata": {},
   "outputs": [],
   "source": [
    "from numpy import sqrt\n",
    "from pandas import read_csv\n",
    "from pydmd import DMD\n",
    "import numpy as np\n",
    "import matplotlib.pyplot as plt\n",
    "\n",
    "path = 'housing_price.csv'\n",
    "df = read_csv(path)\n",
    "data=np.array(df).T"
   ]
  },
  {
   "cell_type": "markdown",
   "id": "365b4843",
   "metadata": {},
   "source": [
    "We look at the `housing` dataset. It contains variables related to the housing price. The last row of `data` is the time series of the housing price.\n"
   ]
  },
  {
   "cell_type": "markdown",
   "id": "8fd2efb0",
   "metadata": {},
   "source": [
    "The data is structed like this:\n",
    "$${\\bf D}=\\left[\\begin{array}{cccc}{\\bf x_0} & {\\bf x_1} &\\cdots & {\\bf x_{505}}\\\\\n",
    "p_0 & p_1 &\\cdots& p_{505}\\end{array}\\right]$$\n",
    "\n",
    "where $\\bf x_t$ is a column vector of some related variables and $p_t$ is the housing price at time $t$.\n",
    "\n",
    "Apply DMD to `data` and find `svd_rank` so that the relative error of reconstructed data is less than 0.4."
   ]
  },
  {
   "cell_type": "code",
   "execution_count": null,
   "id": "ebf5048c",
   "metadata": {},
   "outputs": [],
   "source": [
    "## answer 2a\n"
   ]
  },
  {
   "cell_type": "markdown",
   "id": "686b009c",
   "metadata": {},
   "source": [
    "What is the relative error for the housing price time series (the last row of `data`) for that `svd_rank`?"
   ]
  },
  {
   "cell_type": "code",
   "execution_count": null,
   "id": "7bc8e6c0",
   "metadata": {},
   "outputs": [],
   "source": [
    "## answer of 2b\n"
   ]
  },
  {
   "cell_type": "markdown",
   "id": "eb55fa77",
   "metadata": {},
   "source": [
    "If we only look at the first 10 days, say\n",
    "$$D_{10} = \\begin{bmatrix}\\mathbf{x}_0 & \\cdots &\\mathbf{x}_{9}\\\\\n",
    "p_0 & \\cdots & p_{9}\n",
    "\\end{bmatrix}$$\n",
    "\n",
    "Apply DMD with a suitable `svd_rank` (within 1 and 14).\n",
    "\n",
    "Make the DMD delta time a quarter of the original and extend the temporal window to  $[0,2t_{org}]$, where $t_{org}$ indicates the time when the last snapshot was caught.\n",
    "\n",
    "Plot the resultant figure along with the original data."
   ]
  },
  {
   "cell_type": "code",
   "execution_count": null,
   "id": "b13d80a2",
   "metadata": {},
   "outputs": [],
   "source": [
    "## answer 2c\n"
   ]
  },
  {
   "cell_type": "markdown",
   "id": "9fc4f043",
   "metadata": {},
   "source": [
    "Now, we want to only model the time series of `housing_price`, instead of the whole data matrix. \n",
    "\n",
    "Denote the time series by $(p_0,p_1,\\cdots,p_T)$. We can form the Hankel matrix by\n",
    "\n",
    "$$\\begin{align*}\n",
    "H = \\left[\\begin{array}{cccccc}\n",
    "p_0 & p_1 & p_2 & \\cdots & p_{T-k} & p_{T-k+1} \\\\\n",
    "p_1 & p_2 & p_3 & \\cdots & p_{T-k+1} & p_{T-k+2} \\\\\n",
    "\\vdots & \\vdots & \\vdots & \\ddots & \\vdots & \\vdots \\\\\n",
    "p_{k-1} & p_k & p_{k+1} & \\cdots & p_{T-1} & p_{T}\n",
    "\\end{array}\\right]\n",
    "\\end{align*}$$\n",
    "\n",
    "Simply put, each column of $H$ records a window of $k$ consecutive values of the series. \n",
    "\n",
    "Now complete the function `hankel` to construct the Hankel matrix, given a one-dimensional array `ts` denoting the time series and the window size `k`.\n"
   ]
  },
  {
   "cell_type": "code",
   "execution_count": null,
   "id": "55bffbc8",
   "metadata": {},
   "outputs": [],
   "source": [
    "housing_price=data[-1,:]\n",
    "def hankel(ts,k):\n",
    "    ## answer of 2d\n",
    "    \n",
    "\n",
    "        \n",
    "        \n",
    "    return result\n",
    "\n"
   ]
  },
  {
   "cell_type": "markdown",
   "id": "6a7a1200",
   "metadata": {},
   "source": [
    "By applying DMD to $H$, we are approximating the matrix $\\bf A$,\n",
    "$$\\begin{align*}\n",
    "\\left[\\begin{array}{cccc}\n",
    "p_1 & p_2 & \\cdots & p_{T-k+1} \\\\\n",
    "p_2 & p_3 & \\cdots & p_{T-k+2} \\\\\n",
    "\\vdots & \\vdots & \\vdots & \\vdots \\\\\n",
    "p_{k} & p_{k+1} & \\cdots & p_{T} \\end{array}\\right]\n",
    "\\approx {\\bf A}\n",
    "\\left[\\begin{array}{cccc}\n",
    "p_0 & p_1 & \\cdots & p_{T-k} \\\\\n",
    "p_1 & p_2 & \\cdots & p_{T-k+1} \\\\\n",
    "\\vdots & \\vdots & \\vdots & \\vdots \\\\\n",
    "p_{k-1} & p_{k} & \\cdots & p_{T-1} \\end{array}\\right]\n",
    "\\end{align*}$$"
   ]
  },
  {
   "cell_type": "markdown",
   "id": "410d00ca",
   "metadata": {},
   "source": [
    "Now if we fix `svd_rank=14` and `k`$=10,20,50,100$ or $200$, what is the optimal value for the window size `k` so that the relative reconstruction error is minimal?"
   ]
  },
  {
   "cell_type": "code",
   "execution_count": null,
   "id": "f5c70f5d",
   "metadata": {},
   "outputs": [],
   "source": [
    "## answer of 2e\n"
   ]
  },
  {
   "cell_type": "markdown",
   "id": "6b0357a1",
   "metadata": {},
   "source": [
    "Using your choice of window size of (2e), apply DMD to estimate $p_{506}$."
   ]
  },
  {
   "cell_type": "code",
   "execution_count": null,
   "id": "ddc88d87",
   "metadata": {},
   "outputs": [],
   "source": [
    "## answer of 2f\n"
   ]
  }
 ],
 "metadata": {
  "kernelspec": {
   "display_name": "Python 3 (ipykernel)",
   "language": "python",
   "name": "python3"
  },
  "language_info": {
   "codemirror_mode": {
    "name": "ipython",
    "version": 3
   },
   "file_extension": ".py",
   "mimetype": "text/x-python",
   "name": "python",
   "nbconvert_exporter": "python",
   "pygments_lexer": "ipython3",
   "version": "3.10.6"
  }
 },
 "nbformat": 4,
 "nbformat_minor": 5
}
