{
 "cells": [
  {
   "cell_type": "markdown",
   "id": "a3c9bb35",
   "metadata": {},
   "source": [
    "<h2><center>THE CHINESE UNIVERSITY OF HONG KONG<br /> \n",
    "    Department of Mathematics<br />\n",
    " MATH4280<br />\n",
    "    Innovation and Design in Big Data Analytics<br />\n",
    "    Sample Test</center></h2>\n",
    "    \n",
    "\n",
    "## Question 2"
   ]
  },
  {
   "cell_type": "code",
   "execution_count": 1,
   "id": "3b6b9cfc",
   "metadata": {},
   "outputs": [],
   "source": [
    "from numpy import sqrt\n",
    "from pandas import read_csv\n",
    "from pydmd import DMD\n",
    "import numpy as np\n",
    "import matplotlib.pyplot as plt\n",
    "\n",
    "path = 'housing_price.csv'\n",
    "df = read_csv(path)\n",
    "data=np.array(df).T"
   ]
  },
  {
   "cell_type": "markdown",
   "id": "365b4843",
   "metadata": {},
   "source": [
    "We look at the `housing` dataset. It contains variables related to the housing price. The last row of `data` is the time series of the housing price.\n"
   ]
  },
  {
   "cell_type": "markdown",
   "id": "8fd2efb0",
   "metadata": {},
   "source": [
    "The data is structed like this:\n",
    "$${\\bf D}=\\left[\\begin{array}{cccc}{\\bf x_0} & {\\bf x_1} &\\cdots & {\\bf x_{505}}\\\\\n",
    "p_0 & p_1 &\\cdots& p_{505}\\end{array}\\right]$$\n",
    "\n",
    "where $\\bf x_t$ is a column vector of some related variables and $p_t$ is the housing price at time $t$.\n",
    "\n",
    "Apply DMD to `data` and find `svd_rank` so that the relative error of reconstructed data is less than 0.4."
   ]
  },
  {
   "cell_type": "code",
   "execution_count": 2,
   "id": "ebf5048c",
   "metadata": {},
   "outputs": [
    {
     "name": "stdout",
     "output_type": "stream",
     "text": [
      "The optimal svd_rank is 2 with relative error = 0.36080852851937334\n"
     ]
    }
   ],
   "source": [
    "## answer 2a\n",
    "errors=np.zeros(14)\n",
    "for i,svd_rank in enumerate(range(1,15)):\n",
    "    dmd=DMD(svd_rank=svd_rank,tlsq_rank=1)\n",
    "    dmd.fit(data)\n",
    "    errors[i]=np.linalg.norm(dmd.reconstructed_data.real-data)/np.linalg.norm(data)\n",
    "print(f'The optimal svd_rank is {np.where(errors==min(errors))[0][0]+1} with relative error = {min(errors)}')"
   ]
  },
  {
   "cell_type": "markdown",
   "id": "686b009c",
   "metadata": {},
   "source": [
    "What is the relative error for the housing price time series (the last row of `data`) for that `svd_rank`?"
   ]
  },
  {
   "cell_type": "code",
   "execution_count": 3,
   "id": "7bc8e6c0",
   "metadata": {},
   "outputs": [
    {
     "name": "stdout",
     "output_type": "stream",
     "text": [
      "relative error for the housing price reconstruction: 0.4763767661643138\n"
     ]
    }
   ],
   "source": [
    "## answer of 2b\n",
    "dmd=DMD(svd_rank=14)\n",
    "dmd.fit(data)\n",
    "error=np.linalg.norm(dmd.reconstructed_data.real[-1,:]-data[-1,:])/np.linalg.norm(data[-1,:])\n",
    "print(f'relative error for the housing price reconstruction: {error}')"
   ]
  },
  {
   "cell_type": "markdown",
   "id": "eb55fa77",
   "metadata": {},
   "source": [
    "If we only look at the first 10 days, say\n",
    "$$D_{10} = \\begin{bmatrix}\\mathbf{x}_0 & \\cdots &\\mathbf{x}_{9}\\\\\n",
    "p_0 & \\cdots & p_{9}\n",
    "\\end{bmatrix}$$\n",
    "\n",
    "Apply DMD with a suitable `svd_rank` (within 1 and 14).\n",
    "\n",
    "Make the DMD delta time a quarter of the original and extend the temporal window to  $[0,2t_{org}]$, where $t_{org}$ indicates the time when the last snapshot was caught.\n",
    "\n",
    "Plot the resultant figure along with the original data."
   ]
  },
  {
   "cell_type": "code",
   "execution_count": 4,
   "id": "b13d80a2",
   "metadata": {},
   "outputs": [
    {
     "name": "stdout",
     "output_type": "stream",
     "text": [
      "The desired svd_rank is 9. The relative error is 0.0005882040924467837.\n"
     ]
    },
    {
     "data": {
      "image/png": "[encoded data removed]",
      "text/plain": [
       "<Figure size 640x480 with 1 Axes>"
      ]
     },
     "metadata": {},
     "output_type": "display_data"
    }
   ],
   "source": [
    "## answer 2c\n",
    "errors=np.zeros(14)\n",
    "for i,svd_rank in enumerate(range(1,15)):\n",
    "    dmd=DMD(svd_rank=svd_rank,tlsq_rank=0)\n",
    "    dmd.fit(data[:,:10])\n",
    "    errors[i]=np.linalg.norm(dmd.reconstructed_data.real-data[:,:10])/np.linalg.norm(data[:,:10])\n",
    "min_svd_rank = np.where(errors==min(errors))[0][0]+1\n",
    "print(f'The desired svd_rank is {min_svd_rank}. The relative error is {min(errors)}.')\n",
    "dmd=DMD(svd_rank=min_svd_rank,tlsq_rank=0)\n",
    "dmd.fit(data[:,:10])\n",
    "dmd.dmd_time['dt'] *= 0.25\n",
    "dmd.dmd_time['tend'] *= 2\n",
    "plt.scatter(dmd.original_timesteps, data[-1,:10])\n",
    "plt.scatter(dmd.dmd_timesteps, dmd.reconstructed_data.real[-1,:],color='orange',marker='.')\n",
    "plt.show()"
   ]
  },
  {
   "cell_type": "markdown",
   "id": "9fc4f043",
   "metadata": {},
   "source": [
    "Now, we want to only model the time series of `housing_price`, instead of the whole data matrix. \n",
    "\n",
    "Denote the time series by $(p_0,p_1,\\cdots,p_T)$. We can form the Hankel matrix by\n",
    "\n",
    "$$\\begin{align*}\n",
    "H = \\left[\\begin{array}{cccccc}\n",
    "p_0 & p_1 & p_2 & \\cdots & p_{T-k} & p_{T-k+1} \\\\\n",
    "p_1 & p_2 & p_3 & \\cdots & p_{T-k+1} & p_{T-k+2} \\\\\n",
    "\\vdots & \\vdots & \\vdots & \\ddots & \\vdots & \\vdots \\\\\n",
    "p_{k-1} & p_k & p_{k+1} & \\cdots & p_{T-1} & p_{T}\n",
    "\\end{array}\\right]\n",
    "\\end{align*}$$\n",
    "\n",
    "Simply put, each column of $H$ records a window of $k$ consecutive values of the series. \n",
    "\n",
    "Now complete the function `hankel` to construct the Hankel matrix, given a one-dimensional array `ts` denoting the time series and the window size `k`.\n"
   ]
  },
  {
   "cell_type": "code",
   "execution_count": 5,
   "id": "55bffbc8",
   "metadata": {},
   "outputs": [
    {
     "data": {
      "text/plain": [
       "array([496., 497., 498., 499., 500., 501., 502., 503., 504., 505.])"
      ]
     },
     "execution_count": 5,
     "metadata": {},
     "output_type": "execute_result"
    }
   ],
   "source": [
    "housing_price=data[-1,:]\n",
    "def hankel(ts,k):\n",
    "    ## answer of 2d\n",
    "    \n",
    "    result=np.zeros((k,ts.shape[0]-k+1))\n",
    "    for i in range(result.shape[1]):\n",
    "        result[:,i]=ts[i:i+k]\n",
    "        \n",
    "        \n",
    "    return result\n",
    "tmp=housing_price.shape[0]\n",
    "x=np.array([i for i in range(tmp)])\n",
    "X=hankel(x,10)\n",
    "X[:,-1]\n"
   ]
  },
  {
   "cell_type": "markdown",
   "id": "6a7a1200",
   "metadata": {},
   "source": [
    "By applying DMD to $H$, we are approximating the matrix $\\bf A$,\n",
    "$$\\begin{align*}\n",
    "\\left[\\begin{array}{cccc}\n",
    "p_1 & p_2 & \\cdots & p_{T-k+1} \\\\\n",
    "p_2 & p_3 & \\cdots & p_{T-k+2} \\\\\n",
    "\\vdots & \\vdots & \\vdots & \\vdots \\\\\n",
    "p_{k} & p_{k+1} & \\cdots & p_{T} \\end{array}\\right]\n",
    "\\approx {\\bf A}\n",
    "\\left[\\begin{array}{cccc}\n",
    "p_0 & p_1 & \\cdots & p_{T-k} \\\\\n",
    "p_1 & p_2 & \\cdots & p_{T-k+1} \\\\\n",
    "\\vdots & \\vdots & \\vdots & \\vdots \\\\\n",
    "p_{k-1} & p_{k} & \\cdots & p_{T-1} \\end{array}\\right]\n",
    "\\end{align*}$$"
   ]
  },
  {
   "cell_type": "markdown",
   "id": "410d00ca",
   "metadata": {},
   "source": [
    "Now if we fix `svd_rank=14` and `k`$=10,20,50,100$ or $200$, what is the optimal value for the window size `k` so that the relative reconstruction error is minimal?"
   ]
  },
  {
   "cell_type": "code",
   "execution_count": 6,
   "id": "f5c70f5d",
   "metadata": {},
   "outputs": [
    {
     "name": "stdout",
     "output_type": "stream",
     "text": [
      "The optimal window size is 200 with relative error = 0.2785109037086909\n"
     ]
    }
   ],
   "source": [
    "## answer of 2e\n",
    "errors=np.zeros(5)\n",
    "ws=[10,20,50,100,200]\n",
    "for i,k in enumerate(ws):\n",
    "    dmd=DMD(svd_rank=14)\n",
    "    H=hankel(housing_price,k)\n",
    "    dmd.fit(H)\n",
    "    errors[i]=np.linalg.norm(dmd.reconstructed_data.real-H)/np.linalg.norm(H)\n",
    "print(f'The optimal window size is {ws[np.where(errors==min(errors))[0][0]]} with relative error = {min(errors)}')"
   ]
  },
  {
   "cell_type": "markdown",
   "id": "6b0357a1",
   "metadata": {},
   "source": [
    "Using your choice of window size of (2e), apply DMD to estimate $p_{506}$."
   ]
  },
  {
   "cell_type": "code",
   "execution_count": 7,
   "id": "ddc88d87",
   "metadata": {},
   "outputs": [
    {
     "name": "stdout",
     "output_type": "stream",
     "text": [
      "The required value is 18.545969668353848\n"
     ]
    }
   ],
   "source": [
    "## answer of 2f\n",
    "dmd=DMD(svd_rank=14)\n",
    "H=hankel(housing_price,200)\n",
    "dmd.fit(H)\n",
    "dmd.dmd_time['tend'] += dmd.dmd_time['dt']\n",
    "print(\"The required value is \"+ str(dmd.reconstructed_data[-1,-1].real))"
   ]
  }
 ],
 "metadata": {
  "kernelspec": {
   "display_name": "Python 3 (ipykernel)",
   "language": "python",
   "name": "python3"
  },
  "language_info": {
   "codemirror_mode": {
    "name": "ipython",
    "version": 3
   },
   "file_extension": ".py",
   "mimetype": "text/x-python",
   "name": "python",
   "nbconvert_exporter": "python",
   "pygments_lexer": "ipython3",
   "version": "3.10.6"
  }
 },
 "nbformat": 4,
 "nbformat_minor": 5
}
