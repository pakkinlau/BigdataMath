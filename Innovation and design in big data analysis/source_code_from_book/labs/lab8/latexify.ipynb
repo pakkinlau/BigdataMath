{
 "cells": [
  {
   "cell_type": "code",
   "execution_count": 1,
   "metadata": {},
   "outputs": [
    {
     "name": "stdout",
     "output_type": "stream",
     "text": [
      "Requirement already satisfied: latexify-py in c:\\users\\kinla\\appdata\\local\\programs\\python\\python310\\lib\\site-packages (0.3.1)\n",
      "Requirement already satisfied: dill>=0.3.2 in c:\\users\\kinla\\appdata\\local\\programs\\python\\python310\\lib\\site-packages (from latexify-py) (0.3.7)\n"
     ]
    },
    {
     "name": "stderr",
     "output_type": "stream",
     "text": [
      "\n",
      "[notice] A new release of pip is available: 23.2.1 -> 23.3.1\n",
      "[notice] To update, run: python.exe -m pip install --upgrade pip\n"
     ]
    }
   ],
   "source": [
    "!pip install latexify-py"
   ]
  },
  {
   "cell_type": "code",
   "execution_count": 2,
   "metadata": {},
   "outputs": [
    {
     "data": {
      "text/plain": [
       "'0.3.1'"
      ]
     },
     "execution_count": 2,
     "metadata": {},
     "output_type": "execute_result"
    }
   ],
   "source": [
    "import math  # Optionally\n",
    "import numpy as np  # Optionally\n",
    "import latexify\n",
    "\n",
    "latexify.__version__"
   ]
  },
  {
   "cell_type": "markdown",
   "metadata": {},
   "source": [
    "My notes:\n",
    "\n",
    "1. Latexify provide an easy-to-use API to generate mathematics equations\n",
    "\n",
    "Use cases:\n",
    "\n",
    "a. `@latexify.function` on the top of definition of function\n",
    "\n",
    "b. `latexify.get_latex(func)` to obtain the function's latex \n",
    "\n",
    "c. `@latexify.algorithmic` on the top of definition of function to generates an algorithmic environment, instead of an equation. \n",
    "\n",
    "\n",
    "Customization:\n",
    "\n",
    "a. `@latexify.function(use_math_symbols=True)` to return greek symbols "
   ]
  },
  {
   "cell_type": "code",
   "execution_count": 3,
   "metadata": {},
   "outputs": [
    {
     "name": "stdout",
     "output_type": "stream",
     "text": [
      "-1.0\n",
      "\\mathrm{solve}(a, b, c) = \\frac{-b + \\sqrt{ b^{2} - 4 a c }}{2 a}\n"
     ]
    },
    {
     "data": {
      "text/latex": [
       "$$ \\displaystyle \\mathrm{solve}(a, b, c) = \\frac{-b + \\sqrt{ b^{2} - 4 a c }}{2 a} $$"
      ],
      "text/plain": [
       "<latexify.ipython_wrappers.LatexifiedFunction at 0x25c491691e0>"
      ]
     },
     "execution_count": 3,
     "metadata": {},
     "output_type": "execute_result"
    }
   ],
   "source": [
    "@latexify.function\n",
    "def solve(a, b, c):\n",
    "  return (-b + math.sqrt(b**2 - 4*a*c)) / (2*a)\n",
    "\n",
    "print(solve(1, 4, 3))  # Invoking the function works as expected.\n",
    "print(solve)  # Printing the function shows the underlying LaTeX expression.\n",
    "solve  # Display the MathJax."
   ]
  },
  {
   "cell_type": "code",
   "execution_count": 4,
   "metadata": {},
   "outputs": [
    {
     "name": "stdout",
     "output_type": "stream",
     "text": [
      "Collecting pyflowchart\n",
      "  Obtaining dependency information for pyflowchart from https://files.pythonhosted.org/packages/5e/8f/a60f64731782cdd8d8c7518059b804b7305a955150f2556b69d8622e30f0/pyflowchart-0.3.1-py3-none-any.whl.metadata\n",
      "  Downloading pyflowchart-0.3.1-py3-none-any.whl.metadata (13 kB)\n",
      "Requirement already satisfied: astunparse in c:\\users\\kinla\\appdata\\local\\programs\\python\\python310\\lib\\site-packages (from pyflowchart) (1.6.3)\n",
      "Collecting chardet (from pyflowchart)\n",
      "  Obtaining dependency information for chardet from https://files.pythonhosted.org/packages/38/6f/f5fbc992a329ee4e0f288c1fe0e2ad9485ed064cac731ed2fe47dcc38cbf/chardet-5.2.0-py3-none-any.whl.metadata\n",
      "  Downloading chardet-5.2.0-py3-none-any.whl.metadata (3.4 kB)\n",
      "Requirement already satisfied: wheel<1.0,>=0.23.0 in c:\\users\\kinla\\appdata\\local\\programs\\python\\python310\\lib\\site-packages (from astunparse->pyflowchart) (0.41.3)\n",
      "Requirement already satisfied: six<2.0,>=1.6.1 in c:\\users\\kinla\\appdata\\roaming\\python\\python310\\site-packages (from astunparse->pyflowchart) (1.16.0)\n",
      "Downloading pyflowchart-0.3.1-py3-none-any.whl (25 kB)\n",
      "Downloading chardet-5.2.0-py3-none-any.whl (199 kB)\n",
      "   ---------------------------------------- 0.0/199.4 kB ? eta -:--:--\n",
      "   --------------------------------------- 199.4/199.4 kB 12.6 MB/s eta 0:00:00\n",
      "Installing collected packages: chardet, pyflowchart\n",
      "Successfully installed chardet-5.2.0 pyflowchart-0.3.1\n"
     ]
    },
    {
     "name": "stderr",
     "output_type": "stream",
     "text": [
      "\n",
      "[notice] A new release of pip is available: 23.2.1 -> 23.3.1\n",
      "[notice] To update, run: python.exe -m pip install --upgrade pip\n"
     ]
    }
   ],
   "source": [
    "!pip install pyflowchart\n"
   ]
  },
  {
   "cell_type": "code",
   "execution_count": 5,
   "metadata": {},
   "outputs": [
    {
     "ename": "AttributeError",
     "evalue": "'str' object has no attribute 'save'",
     "output_type": "error",
     "traceback": [
      "\u001b[1;31m---------------------------------------------------------------------------\u001b[0m",
      "\u001b[1;31mAttributeError\u001b[0m                            Traceback (most recent call last)",
      "\u001b[1;32mc:\\Users\\kinla\\Documents\\All_github_repo\\Textual-notes\\MSc math\\Innovation and design in big data analysis\\source_code_from_book\\labs\\lab8\\latexify.ipynb Cell 6\u001b[0m line \u001b[0;36m6\n\u001b[0;32m     <a href='vscode-notebook-cell:/c%3A/Users/kinla/Documents/All_github_repo/Textual-notes/MSc%20math/Innovation%20and%20design%20in%20big%20data%20analysis/source_code_from_book/labs/lab8/latexify.ipynb#X11sZmlsZQ%3D%3D?line=56'>57</a>\u001b[0m flowchart_diagram \u001b[39m=\u001b[39m flowchart\u001b[39m.\u001b[39mflowchart()\n\u001b[0;32m     <a href='vscode-notebook-cell:/c%3A/Users/kinla/Documents/All_github_repo/Textual-notes/MSc%20math/Innovation%20and%20design%20in%20big%20data%20analysis/source_code_from_book/labs/lab8/latexify.ipynb#X11sZmlsZQ%3D%3D?line=58'>59</a>\u001b[0m \u001b[39m# Save the flowchart diagram as an image file\u001b[39;00m\n\u001b[1;32m---> <a href='vscode-notebook-cell:/c%3A/Users/kinla/Documents/All_github_repo/Textual-notes/MSc%20math/Innovation%20and%20design%20in%20big%20data%20analysis/source_code_from_book/labs/lab8/latexify.ipynb#X11sZmlsZQ%3D%3D?line=59'>60</a>\u001b[0m flowchart_diagram\u001b[39m.\u001b[39;49msave(\u001b[39m'\u001b[39m\u001b[39mflowchart.png\u001b[39m\u001b[39m'\u001b[39m)\n\u001b[0;32m     <a href='vscode-notebook-cell:/c%3A/Users/kinla/Documents/All_github_repo/Textual-notes/MSc%20math/Innovation%20and%20design%20in%20big%20data%20analysis/source_code_from_book/labs/lab8/latexify.ipynb#X11sZmlsZQ%3D%3D?line=61'>62</a>\u001b[0m \u001b[39m# Display the flowchart diagram\u001b[39;00m\n\u001b[0;32m     <a href='vscode-notebook-cell:/c%3A/Users/kinla/Documents/All_github_repo/Textual-notes/MSc%20math/Innovation%20and%20design%20in%20big%20data%20analysis/source_code_from_book/labs/lab8/latexify.ipynb#X11sZmlsZQ%3D%3D?line=62'>63</a>\u001b[0m flowchart_diagram\u001b[39m.\u001b[39mdraw()\n",
      "\u001b[1;31mAttributeError\u001b[0m: 'str' object has no attribute 'save'"
     ]
    }
   ],
   "source": [
    "from pyflowchart import Flowchart\n",
    "\n",
    "code = \"\"\"\n",
    "import numpy as np\n",
    "from tensorflow.keras import Sequential\n",
    "from tensorflow.keras.layers import Dense\n",
    "from sklearn.model_selection import train_test_split\n",
    "import matplotlib.pyplot as plt\n",
    "\n",
    "from IPython.display import display, Math\n",
    "\n",
    "import latexify\n",
    "\n",
    "np.random.seed(1234)\n",
    "\n",
    "# generate 500 random numbers between  and 1\n",
    "# `.astype('float32')` converts random numbers to 32-bit floating points representation\n",
    "# *20.0-10.0: scale it to be between -10 and 10\n",
    "a,b = np.random.rand(500).astype('float32')*20.0-10.0, np.random.rand(500).astype('float32')*20.0-10.0\n",
    "\n",
    "# 500 rows: There are 500 samples, represented by teh first dimension (number of rows) of the matrix. \n",
    "# 200 columns:  Each sample consists of 2 parts concentated horizontally: \n",
    "# `x` in the shape of (1,100)\n",
    "# `y` in the shape of (1,100)\n",
    "\n",
    "data_input = np.empty((500,200))\n",
    "np.random.seed(None)\n",
    "\n",
    "@latexify.function\n",
    "def noisy_linear(a,b):\n",
    "    return a*x + b + np.random.rand(100).astype('float32')*0.3\n",
    "\n",
    "print(noisy_linear)\n",
    "print(type(noisy_linear))\n",
    "\n",
    "for i,value_a, value_b in zip(range(500),a,b):\n",
    "    x= np.random.rand(100).astype('float32')\n",
    "    # define y = ax + b + noise (e)\n",
    "    y= noisy_linear(value_a, value_b)\n",
    "    data_input[i]= np.hstack((x.reshape(1,100), y.reshape(1,100)))\n",
    "\n",
    "# To store all the output values (y) for each input values (x) in a single matrix, \n",
    "# the code reshaping `a` and `b` as column vector and then horizontally stacks them together\n",
    "data_output = np.hstack((a.reshape(500,1), b.reshape(500,1)))\n",
    "\n",
    "X_train, X_test, y_train, y_test = train_test_split(data_input, data_output, test_size=0.33)\n",
    "\n",
    "plt.scatter(data_input[0,:100],data_input[0,100:],marker='.')\n",
    "plt.title('An example of 1 Input')\n",
    "plt.show()\n",
    "\"\"\"\n",
    "\n",
    "# Create a flowchart object\n",
    "flowchart = Flowchart.from_code(code)\n",
    "\n",
    "# Generate flowchart diagram\n",
    "flowchart_diagram = flowchart.flowchart()\n",
    "\n",
    "# Save the flowchart diagram as an image file\n",
    "flowchart_diagram.save('flowchart.png')\n",
    "\n",
    "# Display the flowchart diagram\n",
    "flowchart_diagram.draw()\n"
   ]
  }
 ],
 "metadata": {
  "kernelspec": {
   "display_name": "Python 3",
   "language": "python",
   "name": "python3"
  },
  "language_info": {
   "codemirror_mode": {
    "name": "ipython",
    "version": 3
   },
   "file_extension": ".py",
   "mimetype": "text/x-python",
   "name": "python",
   "nbconvert_exporter": "python",
   "pygments_lexer": "ipython3",
   "version": "3.10.0"
  }
 },
 "nbformat": 4,
 "nbformat_minor": 2
}
