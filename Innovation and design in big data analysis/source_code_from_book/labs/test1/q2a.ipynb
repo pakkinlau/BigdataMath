{
 "cells": [
  {
   "cell_type": "markdown",
   "metadata": {},
   "source": [
    "<h2><center>THE CHINESE UNIVERSITY OF HONG KONG<br /> \n",
    "    Department of Mathematics<br />\n",
    " MATH4280<br />\n",
    "    Innovation and Design in Big Data Analytics</center></h2>\n",
    "\n",
    "# Test 1\n",
    "\n",
    "## Question 2\n",
    "\n",
    "In this question, we are going to denoise a color image. \n",
    "\n",
    "Enter"
   ]
  },
  {
   "cell_type": "code",
   "execution_count": null,
   "metadata": {},
   "outputs": [],
   "source": [
    "import numpy as np\n",
    "from scipy.fft import fft2, ifft2, fftshift, ifftshift\n",
    "import matplotlib.pyplot as plt\n",
    "from matplotlib.colors import LogNorm\n",
    "np.random.seed(1234)\n",
    "def plot_spectrum(im_fft, ax):\n",
    "    ax.imshow(np.abs(im_fft), norm=LogNorm(vmin=2))\n",
    "\n",
    "img = plt.imread('clear_img.png').astype(float)[:,:,:-1]\n",
    "corrupted_image = plt.imread('corrupted_image.png').astype(float)[:,:,:-1]"
   ]
  },
  {
   "cell_type": "markdown",
   "metadata": {},
   "source": [
    "Unlike in tutorial, where we dealt with only gray images (2D array), color images are expressed as a 3D array. You are given an image `img` and a corrupted image `corrupted_image`, both of size $(640, 960, 3)$.\n",
    "\n",
    "More precisely,\n",
    "\n",
    "The first layer`corrupted_image[:,:,0]` is the value of the red color.\n",
    "\n",
    "The second layer `corrupted_image[:,:,1]` is the value of the green color.\n",
    "\n",
    "The third layer `corrupted_image[:,:,2]` is the value of the blue color.\n",
    "\n",
    "All the values should lie in $[0,1]$."
   ]
  },
  {
   "cell_type": "code",
   "execution_count": null,
   "metadata": {},
   "outputs": [],
   "source": [
    "fig , ax = plt.subplots(1,2,figsize=(10,10))\n",
    "print(f\"Mean Square Error : {np.mean((corrupted_image-img)**2):f}.\")\n",
    "ax[0].imshow(corrupted_image)\n",
    "ax[0].set_xticks([]) \n",
    "ax[0].set_yticks([])\n",
    "ax[0].set_title(\"Corrupted Image\")\n",
    "ax[1].imshow(img)\n",
    "ax[1].set_xticks([])\n",
    "ax[1].set_yticks([])\n",
    "ax[1].set_title(\"Clear Image\")\n",
    "plt.tight_layout()"
   ]
  },
  {
   "cell_type": "markdown",
   "metadata": {},
   "source": [
    "## Q2a\n",
    "\n",
    "Create a $2$-by-$3$ plot of the spectrum, using the `plot_spectrum()` function provided.\n",
    "\n",
    "The first row contains the spectrums of each layer of `corrupted_image` and \n",
    "the second row contains those of `img`.\n",
    "\n",
    "Use `scipy.fft.fft2` and shift the 0-frequency term to the center the of graph."
   ]
  },
  {
   "cell_type": "code",
   "execution_count": null,
   "metadata": {},
   "outputs": [],
   "source": [
    "## answer of 2a\n",
    "\n",
    "fig , ax = plt.subplots(2,3,figsize=(10,10))\n",
    "for i in range(3):\n",
    "    plot_spectrum(fftshift(fft2(corrupted_image[:,:,i])), ax[0][i])\n",
    "    ax[0][i].set_xticks([])\n",
    "    ax[0][i].set_yticks([])\n",
    "    ax[0][i].set_title(f\"Layer {i+1} of Corrupted Image\")\n",
    "for i in range(3):\n",
    "    plot_spectrum(fftshift(fft2(img[:,:,i])), ax[1][i])\n",
    "    ax[1][i].set_xticks([])\n",
    "    ax[1][i].set_yticks([])\n",
    "    ax[1][i].set_title(f\"Layer {i+1} of Clear Image\")\n",
    "plt.tight_layout()"
   ]
  },
  {
   "cell_type": "markdown",
   "metadata": {},
   "source": [
    "## Q2b \n",
    "\n",
    "Plotting the graphs, we can compare the frequencies. We would want to retain the frequencies around the center. \n",
    "\n",
    "Select suitable respective filters to retain the frequencies around the center for all the three layers. Save the filtered image as an array `filtered_image`. \n",
    "\n",
    "Plot the spectrums after the filtering of these layers."
   ]
  },
  {
   "cell_type": "code",
   "execution_count": null,
   "metadata": {},
   "outputs": [],
   "source": [
    "## answer of 2b\n",
    "\n",
    "filtered_image = np.zeros(corrupted_image.shape)\n",
    "fig, ax = plt.subplots(1,3,figsize=(10,10))\n",
    "r = [60,100,90]\n",
    "for i in range(3):\n",
    "    Y_fft=fftshift(fft2(corrupted_image[:,:,i]))\n",
    "    rows, cols = Y_fft.shape\n",
    "    crow, ccol = rows // 2, cols // 2\n",
    "    mask = np.ones((rows, cols), dtype=bool)\n",
    "    y, x = np.ogrid[-crow:rows-crow, -ccol:cols-ccol]\n",
    "    mask[x*x + y*y >= r[i]**2] = 0\n",
    "\n",
    "    Y_fft_filtered = Y_fft * mask\n",
    "    filtered_image[:,:,i] = (ifft2(ifftshift(Y_fft_filtered))).real\n",
    "    plot_spectrum(Y_fft_filtered,ax[i])\n",
    "    ax[i].set_xticks([])\n",
    "    ax[i].set_yticks([])\n",
    "    ax[i].set_title(f\"Layer {i+1}\")\n",
    "\n",
    "\n",
    "plt.tight_layout()"
   ]
  },
  {
   "cell_type": "markdown",
   "metadata": {},
   "source": [
    "## Q2c \n",
    "\n",
    "Reconstruct the image. Plot this next to the original image.\n",
    "\n",
    "Note that `plt.imshow()` assumes all the values to be in $[0,1]$. You may use `np.clip(filtered_image, 0,1)` to ensure this. \n",
    "\n",
    "Calculate the mean square error $= \\frac{(\\text{filtered\\_ image}-\\text{img})^2}{\\text{size of image}}$. \n",
    "\n"
   ]
  },
  {
   "cell_type": "code",
   "execution_count": null,
   "metadata": {},
   "outputs": [],
   "source": [
    "## answer of 2c\n",
    "\n",
    "fig, ax = plt.subplots(1,2,figsize=(10,10))\n",
    "ax[0].imshow(np.clip(filtered_image,0,1))\n",
    "ax[0].set_xticks([])\n",
    "ax[0].set_yticks([])\n",
    "ax[0].set_title(\"Reconstructed Image\")\n",
    "ax[1].imshow(np.clip(img,0,1))\n",
    "ax[1].set_xticks([])\n",
    "ax[1].set_yticks([])\n",
    "ax[1].set_title(\"Clear Image\")\n",
    "plt.tight_layout()\n",
    "\n",
    "print(f\"The mean square error : {np.mean((filtered_image-img)**2):f}.\")"
   ]
  },
  {
   "cell_type": "markdown",
   "metadata": {},
   "source": [
    "## Q2d\n",
    "\n",
    "We can see that the reconstructed image is better than the corrupted one but the color tone is off. Why?"
   ]
  },
  {
   "cell_type": "markdown",
   "metadata": {},
   "source": [
    "## answer of 2d\n",
    "\n",
    "Because we also remove some of the frequencies of the clear image in 2c."
   ]
  },
  {
   "cell_type": "markdown",
   "metadata": {},
   "source": [
    "## Q2e\n",
    "\n",
    "If we now also have the mean value of each layer of the clear image, how can we use this information to improve our `filtered_image`? \n",
    "\n",
    "Save the new result as `new_filtered_image`. Calculate the new mean square error."
   ]
  },
  {
   "cell_type": "code",
   "execution_count": null,
   "metadata": {},
   "outputs": [],
   "source": [
    "clear_mean = np.zeros(3)\n",
    "for i in range(3):\n",
    "    clear_mean[i] = img[:,:,i].mean()\n",
    "\n",
    "## answer of 2e\n",
    "\n",
    "new_filtered_image = filtered_image.copy()\n",
    "for i in range(3):  # For each color channel\n",
    "    mean_filtered = new_filtered_image[:,:,i].mean()\n",
    "    new_filtered_image[:,:,i] += clear_mean[i] - mean_filtered\n",
    "\n",
    "\n",
    "fig, ax = plt.subplots(1,2,figsize=(10,10))\n",
    "ax[0].imshow(np.clip(new_filtered_image,0,1))\n",
    "ax[0].set_xticks([])\n",
    "ax[0].set_yticks([])\n",
    "ax[0].set_title(\"New Reconstructed Image\")\n",
    "ax[1].imshow(np.clip(img,0,1))\n",
    "ax[1].set_xticks([])\n",
    "ax[1].set_yticks([])\n",
    "ax[1].set_title(\"Clear Image\")\n",
    "plt.tight_layout()\n",
    "\n",
    "print(f\"The mean square error : {np.mean((new_filtered_image-img)**2):f}.\")"
   ]
  }
 ],
 "metadata": {
  "kernelspec": {
   "display_name": "tf",
   "language": "python",
   "name": "python3"
  },
  "language_info": {
   "codemirror_mode": {
    "name": "ipython",
    "version": 3
   },
   "file_extension": ".py",
   "mimetype": "text/x-python",
   "name": "python",
   "nbconvert_exporter": "python",
   "pygments_lexer": "ipython3",
   "version": "3.9.12"
  },
  "orig_nbformat": 4
 },
 "nbformat": 4,
 "nbformat_minor": 2
}
