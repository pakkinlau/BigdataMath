{
 "cells": [
  {
   "cell_type": "markdown",
   "metadata": {},
   "source": [
    "<h2><center>THE CHINESE UNIVERSITY OF HONG KONG<br /> \n",
    "    Department of Mathematics<br />\n",
    " MATH4280<br />\n",
    "    Innovation and Design in Big Data Analytics</center></h2>\n",
    "\n",
    "# Test 1\n",
    "\n",
    "## Question 1\n",
    "\n",
    "Enter"
   ]
  },
  {
   "cell_type": "code",
   "execution_count": null,
   "metadata": {},
   "outputs": [],
   "source": [
    "import numpy as np\n",
    "import pandas as pd\n",
    "from sklearn.decomposition import PCA\n",
    "\n",
    "## Do not change these\n",
    "df = pd.read_csv('face_data.csv')"
   ]
  },
  {
   "cell_type": "markdown",
   "metadata": {},
   "source": [
    "In this question, we are trying to implement the Nearest Centroid Classifier (or Nearest Mean Classifier) in the principal component space. The purpose is to classify images based on how close they are to the centroids (the mean) of each group of data. To improve the efficiency, we perform this classification on the PCA space.\n",
    "\n",
    "`df` is a dataframe containing 10 face pictures of each of 40 people. Each picture is $64 \\times 64$ pixels and flattened to be stored in the first $4096$ columns of `df`. The last column `target` refers to the assigned number of the person. \n",
    "\n",
    "To verify the classification method, we will split the data into two groups (`training_set` and `testing_set`). The overview of this approach is as follows:\n",
    " \n",
    "1. Generate the principal components using `training_set`\n",
    "2. Calculate the centroids of each group in the PCA space\n",
    "3. Transform the `testing_set` using the principal components obtained in Step 1\n",
    "4. Calculate the distances of the PCA-transformed data from the centroids\n",
    "5. Calculate the accuarcy of this method\n",
    "\n",
    "## Q1a\n",
    "\n",
    "We first create a training set and a testing set. Each group has 10 pictures. Among the same group, we would like the first 8 to be included in `training_set` and the remaining 2 in `testing_set`.\n",
    "\n",
    "Your `training_set` and `testing_set` should be $320\\times 4097$ and $80\\times 4097$ `pd.DataFrame`'s. Their last columns should be named `target`, representing the group number assigned to each row."
   ]
  },
  {
   "cell_type": "code",
   "execution_count": null,
   "metadata": {},
   "outputs": [],
   "source": [
    "## answer of 1a\n",
    "\n",
    "training_set = np.zeros([320,4097])\n",
    "testing_set = np.zeros([80,4097])\n",
    "\n",
    "for i,k in enumerate(df.iloc[:,-1].unique()):\n",
    "    training_set[i*8:(i+1)*8] = df[df['target']==k].iloc[:8].values\n",
    "    testing_set[i*2:(i+1)*2] = df[df['target']==k].iloc[-2:].values\n",
    "\n",
    "training_set = pd.DataFrame(training_set)\n",
    "training_set.rename(columns={4096: 'target'},inplace=True)\n",
    "testing_set = pd.DataFrame(testing_set)\n",
    "testing_set.rename(columns={4096: 'target'},inplace=True)\n",
    "\n"
   ]
  },
  {
   "cell_type": "markdown",
   "metadata": {},
   "source": [
    "## Q1b\n",
    "\n",
    "We now create the principal components using the `training_set` appropriately. Select a suitable number of components that captures at least $95\\%$ of the total variance. Declare a dataframe `images_training_pca` as your PCA-transformed training data. \n",
    "\n",
    "Again, the last column of `images_training_pca` is named `target`, representing the assigned class number."
   ]
  },
  {
   "cell_type": "code",
   "execution_count": null,
   "metadata": {},
   "outputs": [],
   "source": [
    "## answer of 1b\n",
    "\n",
    "images_training = training_set.iloc[:,:-1]\n",
    "\n",
    "pca = PCA(n_components=320)\n",
    "pca.fit(images_training)\n",
    "print(f\"It can capture 95% variance with {np.where(pca.explained_variance_ratio_.cumsum() > 0.95)[0][0]} principal components.\")\n",
    "\n",
    "pca = PCA(n_components = np.where(pca.explained_variance_ratio_.cumsum() > 0.95)[0][0])\n",
    "images_training_pca = pca.fit_transform(images_training)\n",
    "images_training_pca = pd.DataFrame(images_training_pca)\n",
    "images_training_pca = pd.concat([images_training_pca,training_set['target']],axis=1)\n",
    "\n",
    "images_training_pca\n",
    "\n"
   ]
  },
  {
   "cell_type": "markdown",
   "metadata": {},
   "source": [
    "## Q1c\n",
    "\n",
    "Create another dataframe `training_pca_centers`. \n",
    "\n",
    "Assuming `k` is your number of principal components, your `training_pca_centers` should be of size $40\\times (k+1)$.\n",
    "\n",
    "Each row is the center (the mean) of the PCA-transformed data of the same person and also the number assigned to the person."
   ]
  },
  {
   "cell_type": "code",
   "execution_count": null,
   "metadata": {},
   "outputs": [],
   "source": [
    "## answer of 1c\n",
    "\n",
    "\n",
    "training_pca_centers = np.zeros((40, images_training_pca.shape[1]))\n",
    "for i in range(40):\n",
    "    training_pca_centers[i,:-1]=images_training_pca[images_training_pca['target']==i].iloc[:,:-1].mean(axis=0)\n",
    "    training_pca_centers[i,-1]=i\n",
    "training_pca_centers=pd.DataFrame(training_pca_centers)\n",
    "column_names=list(training_pca_centers.columns)\n",
    "column_names[-1]='target'\n",
    "training_pca_centers.columns=column_names\n",
    "\n",
    "\n",
    "## Alternatively, \n",
    "# training_pca_centers = images_training_pca.groupby('target').mean().reset_index()\n",
    "# cols = [col for col in training_pca_centers.columns if col != 'target']\n",
    "# training_pca_centers = training_pca_centers[cols + ['target']]\n",
    "\n",
    "# training_pca_centers.shape"
   ]
  },
  {
   "cell_type": "markdown",
   "metadata": {},
   "source": [
    "## Q1d\n",
    "\n",
    "Create a function `find_class(df,x)` that takes in a dataframe `df` and a 1D array `x`.\n",
    "\n",
    "The last column of `df` marks a class number. This function compares the $l_2$ distance between each row of `df` and `x`, and then returns the class number of the row in `df` with the shortest distance. "
   ]
  },
  {
   "cell_type": "code",
   "execution_count": null,
   "metadata": {},
   "outputs": [],
   "source": [
    "## answer of 1d\n",
    "\n",
    "def find_class(df,x):\n",
    "    min_tmp = np.inf\n",
    "    for  _, row in df.iterrows():\n",
    "        distance = np.linalg.norm(row.values[:-1]-x,2)\n",
    "        if min_tmp > distance:\n",
    "            min_tmp = distance\n",
    "            pred_class = row.values[-1]\n",
    "    return pred_class\n"
   ]
  },
  {
   "cell_type": "markdown",
   "metadata": {},
   "source": [
    "## Q1e\n",
    "\n",
    "Perform PCA on the testing data. Using `find_class()` to find the predicted class for each row of the transformed testing data. Save all the predictions to a 1D array `pred`. "
   ]
  },
  {
   "cell_type": "code",
   "execution_count": null,
   "metadata": {},
   "outputs": [],
   "source": [
    "## answer of 1e\n",
    "\n",
    "images_testing = testing_set.iloc[:,:-1]\n",
    "images_testing_pca = pca.transform(images_testing)\n",
    "images_testing_pca = pd.DataFrame(images_testing_pca)\n",
    "images_testing_pca = pd.concat([images_testing_pca,testing_set['target']],axis=1)\n",
    "pred = np.zeros(testing_set.shape[0])\n",
    "for k, row in images_testing_pca.iterrows():\n",
    "    pred[k] = find_class(training_pca_centers,row.values[:-1])\n"
   ]
  },
  {
   "cell_type": "markdown",
   "metadata": {},
   "source": [
    "## Q1f\n",
    "\n",
    "Calculate the accuracy of the predictions using the following definitions:\n",
    "$$\\text{accuracy} = \\frac{\\#\\text{correct predictions}}{\\#\\text{testing data}}\\times 100\\%$$\n",
    "\n",
    "You should achieve above $75\\%$ accuracy."
   ]
  },
  {
   "cell_type": "code",
   "execution_count": null,
   "metadata": {},
   "outputs": [],
   "source": [
    "## answer of 1f\n",
    "\n",
    "def give_accuracy(pred,target):\n",
    "    correct_count = 0\n",
    "    for k,i in enumerate(pred):\n",
    "        if i == target[k]:\n",
    "            correct_count += 1\n",
    "    return correct_count/pred.shape[0]*100\n",
    "\n",
    "## Alternatively\n",
    "# def give_accuracy(pred,target):\n",
    "#     return np.count_nonzero(pred==target)/pred.shape[0]*100\n",
    "\n",
    "print(f\"Accuracy: {give_accuracy(pred,images_testing_pca['target'].values)}%.\")"
   ]
  }
 ],
 "metadata": {
  "kernelspec": {
   "display_name": "tf",
   "language": "python",
   "name": "python3"
  },
  "language_info": {
   "codemirror_mode": {
    "name": "ipython",
    "version": 3
   },
   "file_extension": ".py",
   "mimetype": "text/x-python",
   "name": "python",
   "nbconvert_exporter": "python",
   "pygments_lexer": "ipython3",
   "version": "3.9.12"
  },
  "orig_nbformat": 4
 },
 "nbformat": 4,
 "nbformat_minor": 2
}
